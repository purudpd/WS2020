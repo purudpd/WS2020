{
 "cells": [
  {
   "cell_type": "code",
   "execution_count": 2,
   "metadata": {},
   "outputs": [],
   "source": [
    "%matplotlib inline\n",
    "import pandas as pd\n",
    "import numpy as np\n",
    "from glob import glob\n",
    "from collections import Counter\n",
    "import matplotlib.pyplot as plt\n",
    "from scipy import stats\n",
    "import krippendorff\n",
    "import ktrain\n",
    "from ktrain import text as ktext"
   ]
  },
  {
   "cell_type": "code",
   "execution_count": 3,
   "metadata": {},
   "outputs": [
    {
     "name": "stdout",
     "output_type": "stream",
     "text": [
      "Requirement already satisfied: torchsummary in d:\\anaconda\\envs\\dl\\lib\\site-packages (1.5.1)\n"
     ]
    }
   ],
   "source": [
    "!pip install torchsummary\n",
    "%reload_ext autoreload\n",
    "%autoreload 2\n",
    "%matplotlib inline"
   ]
  },
  {
   "cell_type": "markdown",
   "metadata": {},
   "source": [
    "# Load and merge data files"
   ]
  },
  {
   "cell_type": "code",
   "execution_count": 4,
   "metadata": {},
   "outputs": [
    {
     "name": "stdout",
     "output_type": "stream",
     "text": [
      "29\n"
     ]
    }
   ],
   "source": [
    "# Read and combine croudsourced_data csv\n",
    "file_list = glob('./Dataset/crowdsourced_data/*/*.csv')\n",
    "print(len(file_list))\n",
    "data_df = pd.concat ([ pd.read_csv(file) for file in file_list ])"
   ]
  },
  {
   "cell_type": "markdown",
   "metadata": {},
   "source": [
    "### Sample Data"
   ]
  },
  {
   "cell_type": "code",
   "execution_count": 5,
   "metadata": {},
   "outputs": [
    {
     "name": "stdout",
     "output_type": "stream",
     "text": [
      "1066\n"
     ]
    }
   ],
   "source": [
    "data_df.head()\n",
    "print(len(set(data_df['questionId'].values)))"
   ]
  },
  {
   "cell_type": "markdown",
   "metadata": {},
   "source": [
    "### Data statistics"
   ]
  },
  {
   "cell_type": "code",
   "execution_count": 6,
   "metadata": {},
   "outputs": [
    {
     "name": "stdout",
     "output_type": "stream",
     "text": [
      "Unique questions by 'questionId' column: 1066\n",
      "Unique questions by 'Question' column: 1105 \n",
      "\n",
      "Duplicate Questions: 2876\n",
      "Questions without duplicates: 22\n"
     ]
    },
    {
     "data": {
      "image/png": "[encoded data removed]",
      "text/plain": [
       "<Figure size 720x720 with 4 Axes>"
      ]
     },
     "metadata": {
      "needs_background": "light"
     },
     "output_type": "display_data"
    }
   ],
   "source": [
    "# Unique Questions\n",
    "unique_questions_byid = len(set(data_df['questionId'].values))\n",
    "unique_questions_bytext = len(set(data_df['Question'].values))\n",
    "print('Unique questions by \\'questionId\\' column:',unique_questions_byid)\n",
    "print('Unique questions by \\'Question\\' column:',unique_questions_bytext,'\\n')\n",
    "\n",
    "# Total Questions having duplicates\n",
    "duplicate_df = data_df[data_df.duplicated(subset = ['questionId'], keep = False)]\n",
    "non_duplicate_df = data_df[~data_df.duplicated(subset = ['questionId'], keep = False)]\n",
    "print('Duplicate Questions:', duplicate_df.shape[0])\n",
    "print('Questions without duplicates:',non_duplicate_df.shape[0])\n",
    "\n",
    "# Distribution of Question Ratings\n",
    "fig, axs = plt.subplots(nrows = 2, ncols=2, figsize=(10, 10))\n",
    "pd.Series(data_df['Question Rating'].values).value_counts().plot(kind = 'bar', title = 'Question Ratings', ax = axs[0,0])\n",
    "pd.Series(data_df['Answer Label'].values).value_counts().plot(kind ='bar', title = 'Answer Labels', ax = axs[0,1])\n",
    "pd.Series(data_df['Answer Quality'].values).value_counts().plot(kind ='bar', title = 'Answer Quality', ax = axs[1,0])\n",
    "pd.Series(data_df['Factual'].values).value_counts().plot(kind ='bar', title = 'Factual', ax = axs[1,1])\n",
    "plt.savefig('disp.png')"
   ]
  },
  {
   "cell_type": "markdown",
   "metadata": {},
   "source": [
    "### Observations\n",
    "- The amount of unique questions by __[questionId]__ is less than the amount of unique questions by __[question]__. This points to the possibility that there may be differences among questions with same __[questionId]__.\n",
    "- The distribution of answer labels shows a wider distribution due to __non-uniform labels__.\n",
    "\n",
    "#### The reasons for these observations are explored below."
   ]
  },
  {
   "cell_type": "code",
   "execution_count": 7,
   "metadata": {},
   "outputs": [
    {
     "name": "stdout",
     "output_type": "stream",
     "text": [
      "questionId: 156 Length: 2\n",
      "Is perfect pitch something you're \"born with?\",https://skeptics.stackexchange.com/questions/3274#3281,,,,\n",
      "\"Can blood group affect behavior?\n",
      "Can blood group affect behavior?\n",
      "\n",
      "\n",
      "questionId: 814 Length: 3\n",
      "Can a second Chernobyl\" happen at the nuclear reactors damaged by the tsunami in Japan?\"\n",
      "Can a \"second Chernobyl\" happen at the nuclear reactors damaged by the tsunami in Japan?\n",
      "Can a second Chernobyl\" happen at the nuclear reactors damaged by the tsunami in Japan?\"\n",
      "\n",
      "\n",
      "questionId: 2495 Length: 3\n",
      "Do we need \"hot\" breakfast food?\n",
      "Do we need hot\" breakfast food?\"\n",
      "Do we need hot\" breakfast food?\"\n",
      "\n",
      "\n",
      "questionId: 3373 Length: 3\n",
      "Do murderers have \"the eyes of a killer\"?\n",
      "Do murderers have the eyes of a killer\"?\"\n",
      "Do murderers have the eyes of a killer\"?\"\n",
      "\n",
      "\n",
      "questionId: 4348 Length: 3\n",
      "Is there \"vastly more matter than anti-matter\" in the Universe?\n",
      "Is there vastly more matter than anti-matter\" in the Universe?\"\n",
      "Is there vastly more matter than anti-matter\" in the Universe?\"\n",
      "\n",
      "\n",
      "questionId: 4886 Length: 3\n",
      "Are generic drugs equivalent to the name-brand\" alternatives?\"\n",
      "Are generic drugs equivalent to the \"name-brand\" alternatives?\n",
      "Are generic drugs equivalent to the \"name-brand\" alternatives?\n",
      "\n",
      "\n",
      "questionId: 5057 Length: 2\n",
      "Did \"global cooling\" have as much scientific consensus as \"global warming\" has now?\n",
      "Did global cooling have as much scientific consensus as global warming has now?\n",
      "\n",
      "\n",
      "questionId: 5141 Length: 2\n",
      "Is ET watching I Love Lucy\" right now?\"\n",
      "Is ET watching \"I Love Lucy\" right now?\n",
      "\n",
      "\n",
      "questionId: 5518 Length: 3\n",
      "Can products labelled homeopathic\" in actuality contain active ingredients?\"\n",
      "Can products labelled homeopathic\" in actuality contain active ingredients?\"\n",
      "Can products labelled \"homeopathic\" in actuality contain active ingredients?\n",
      "\n",
      "\n",
      "questionId: 6275 Length: 3\n",
      "Is margarine \"one molecule away from plastic\"?\n",
      "Is margarine one molecule away from plastic\"?\"\n",
      "Is margarine one molecule away from plastic\"?\"\n",
      "\n",
      "\n",
      "questionId: 6277 Length: 3\n",
      "Does any U.S.-sold brand of 100% pure\" fruit juice contain added HFCS?\"\n",
      "Does any U.S.-sold brand of \"100% pure\" fruit juice contain added HFCS?\n",
      "Does any U.S.-sold brand of \"100% pure\" fruit juice contain added HFCS?\n",
      "\n",
      "\n",
      "questionId: 6620 Length: 3\n",
      "Do electric heaters with open heating elements \"dry the air\" or \"burn up oxygen\"?\n",
      "Do electric heaters with open heating elements dry the air\" or \"burn up oxygen\"?\"\n",
      "Do electric heaters with open heating elements dry the air\" or \"burn up oxygen\"?\"\n",
      "\n",
      "\n",
      "questionId: 7533 Length: 3\n",
      "Are old glass panes thicker on the bottom due to flow\"?\"\n",
      "Are old glass panes thicker on the bottom due to flow\"?\"\n",
      "Are old glass panes thicker on the bottom due to \"flow\"?\n",
      "\n",
      "\n",
      "questionId: 7626 Length: 3\n",
      "Is the Electromagnetic Field Sensitivity\" study reliable?\"\n",
      "Is the \"Electromagnetic Field Sensitivity\" study reliable?\n",
      "Is the Electromagnetic Field Sensitivity\" study reliable?\"\n",
      "\n",
      "\n",
      "questionId: 7653 Length: 3\n",
      "Does reverse psychology\" work?\"\n",
      "Does \"reverse psychology\" work?\n",
      "Does reverse psychology\" work?\"\n",
      "\n",
      "\n",
      "questionId: 7687 Length: 3\n",
      "Do \"scare kids straight\" programmes reduce criminal activity?\n",
      "Do scare kids straight\" programmes reduce criminal activity?\"\n",
      "Do scare kids straight\" programmes reduce criminal activity?\"\n",
      "\n",
      "\n",
      "questionId: 7789 Length: 2\n",
      "Are the specific claims from the \"WSJ 16\" climate skeptics true?\n",
      "Are the specific claims from the WSJ 16\" climate skeptics true?\"\n",
      "\n",
      "\n",
      "questionId: 8737 Length: 2\n",
      "Is lean finely textured beef (LFTB) or \"pink slime\" safe to eat?\n",
      "Is lean finely textured beef (LFTB) or pink slime\" safe to eat?\"\n",
      "\n",
      "\n",
      "questionId: 10494 Length: 3\n",
      "Does McDonald's put anti-emetics (\"anti-vomit\") in their food?\n",
      "Does McDonald's put anti-emetics (anti-vomit\") in their food?\"\n",
      "Does McDonald's put anti-emetics (anti-vomit\") in their food?\"\n",
      "\n",
      "\n",
      "questionId: 10555 Length: 3\n",
      "Does a mosquito line exist, above which mosquitos do not travel?\n",
      "Does a mosquito line\" exist above which mosquitos do not travel?\"\n",
      "Does a mosquito line\" exist above which mosquitos do not travel?\"\n",
      "\n",
      "\n",
      "questionId: 10853 Length: 3\n",
      "Is a beer belly\" caused by drinking beer?\"\n",
      "Is a beer belly\" caused by drinking beer?\"\n",
      "Is a \"beer belly\" caused by drinking beer?\n",
      "\n",
      "\n",
      "questionId: 12328 Length: 2\n",
      "Is climate close to a tipping point\"?\"\n",
      "Is climate close to a \"tipping point\"?\n",
      "\n",
      "\n",
      "questionId: 18887 Length: 3\n",
      "Is treatment induced injury\" one of the leading causes of death and disability?\"\n",
      "Is \"treatment induced injury\" one of the leading causes of death and disability?\n",
      "Is treatment induced injury\" one of the leading causes of death and disability?\"\n",
      "\n",
      "\n",
      "questionId: 19943 Length: 3\n",
      "Are ectomorph\" \"mesomorph\" and \"endomorph\" valid and useful descriptors?\"\n",
      "Are “ectomorph”, “mesomorph” and “endomorph” valid and useful descriptors?\n",
      "Are \"ectomorph mesomorph\" and \"endomorph\" valid and useful descriptors?\n",
      "\n",
      "\n",
      "questionId: 20632 Length: 3\n",
      "Can Continuous Passive Movement\" help cartilage healing?\"\n",
      "Can Continuous Passive Movement\" help cartilage healing?\"\n",
      "Can \"Continuous Passive Movement\" help cartilage healing?\n",
      "\n",
      "\n",
      "questionId: 22638 Length: 3\n",
      "Does Ebola pose little risk to the U.S. general population\"?\"\n",
      "Does Ebola pose little risk to the U.S. general population\"?\"\n",
      "Does Ebola pose \"little risk to the U.S. general population\"?\n",
      "\n",
      "\n",
      "questionId: 23379 Length: 2\n",
      "Is it healthy to \"Eat breakfast like a king, lunch like a prince and dinner like a pauper\"?\n",
      "Is it healthy to Eat breakfast like a king, lunch like a prince and dinner like a pauper\"?\"\n",
      "\n",
      "\n",
      "questionId: 31837 Length: 2\n",
      "Is castoreum, from a beaver's butt used for substitute vanilla flavoring?\n",
      "Is castoreum, from a beaver's butt\" used for substitute vanilla flavoring?\"\n",
      "\n",
      "\n",
      "questionId: 36535 Length: 3\n",
      "Does Plan B\" (Levonorgestrel) prevent implantation of fertilized eggs?\"\n",
      "Does \"Plan B\" (Levonorgestrel) prevent implantation of fertilized eggs?\n",
      "Does Plan B\" (Levonorgestrel) prevent implantation of fertilized eggs?\"\n",
      "\n",
      "\n",
      "questionId: 37672 Length: 3\n",
      "Is there any evidence that soldiers turned traitor due to Chinese brainwashing\"?\"\n",
      "Is there any evidence that soldiers turned traitor due to Chinese brainwashing\"?\"\n",
      "Is there any evidence that soldiers turned traitor due to Chinese \"brainwashing\"?\n",
      "\n",
      "\n",
      "questionId: 41423 Length: 3\n",
      "Can ÔÇ£heart strings break after a deep emotional traumaÔÇØ?\n",
      "Can \"heart strings break after a deep emotional trauma\"?\n",
      "Can “heart strings break after a deep emotional trauma”?\n",
      "\n",
      "\n",
      "questionId: 41943 Length: 2\n",
      "Does one SUV tank of ethanol take as much grain as could feed a person for a whole year?\"\"\n",
      "Does one SUV tank of ethanol \"take as much grain as could feed a person for a whole year?\" \n",
      "\n",
      "\n",
      "questionId: 42915 Length: 2\n",
      "Does General Relativity bring Cosmic Time\n",
      "Does General Relativity bring Cosmic Time,  which is the same for all frames-of-reference?\n",
      "\n",
      "\n",
      "questionId: 43747 Length: 3\n",
      "Is the walrus scene\" a result of climate change?\"\n",
      "Is the walrus scene\" a result of climate change?\"\n",
      "Is the \"walrus scene\" a result of climate change?\n",
      "\n",
      "\n",
      "questionId: 44229 Length: 3\n",
      "Does a desirable difficulty\" in reading font affect memory retention?\"\n",
      "Does a desirable difficulty\" in reading font affect memory retention?\"\n",
      "Does a \"desirable difficulty\" in reading font affect memory retention?\n",
      "\n",
      "\n",
      "questionId: 44309 Length: 3\n",
      "Was the 45.9°C temperature in France in June 2019 the highest ever recorded in France?\n",
      "Was the 45.9°C temperature in France in June 2019 the highest ever recorded in France?\n",
      "Was the 45.9Â°C temperature in France in June 2019 the highest ever recorded in France?\n",
      "\n",
      "\n",
      "questionId: 44749 Length: 3\n",
      "Does one SUV tank of ethanol \"take as much grain as could feed a person for a whole year?\",https://skeptics.stackexchange.com/questions/41943#41944,,,,\n",
      "\"Does sunflower oil reduce LDL (\"bad\") cholesterol more than olive oil?\n",
      "Does sunflower oil reduce LDL (bad\") cholesterol more than olive oil?\"\n",
      "Does sunflower oil reduce LDL (bad\") cholesterol more than olive oil?\"\n",
      "\n",
      "\n"
     ]
    }
   ],
   "source": [
    "#Group duplicate data by {questionId}\n",
    "grouped = data_df.groupby(['questionId'])\n",
    "\n",
    "#Iterate over the duplicate groups\n",
    "for ques_id,group in grouped:\n",
    "    \n",
    "    # Group based on question text\n",
    "    grouped_bytext = group.groupby(['Question'])\n",
    "    if len(grouped_bytext) != 1:\n",
    "        print('questionId:',ques_id, 'Length:',len(group['Question'].values))\n",
    "        print(*group['Question'].values,'\\n',sep='\\n')\n",
    "        "
   ]
  },
  {
   "cell_type": "markdown",
   "metadata": {},
   "source": [
    "#### We can make the further observations:\n",
    "- There are badly formed questions with _questionIds {44749, 156}_.\n",
    "- Presence of special characters like: __\" Ô, Ç, Ø__\n",
    "- Presence of white-space around the question text \n",
    "- Presence of an nan\n",
    "\n",
    "#### The special characters and extra whitespace within question text can be removed as follows. We also make all the Answer Labels to a lowercase."
   ]
  },
  {
   "cell_type": "code",
   "execution_count": 8,
   "metadata": {},
   "outputs": [],
   "source": [
    "# Process the dataset based on above observations\n",
    "# Remove special characters and white space\n",
    "data_df.loc[:,'Question'] = data_df['Question'].str.replace('\"|Ô|Ç|Ø|Â|”|“|,|£','', regex = True).str.strip()\n",
    "\n",
    "# Conver all answer labels to lower-case\n",
    "data_df.loc[:,'Answer Label'] = data_df['Answer Label'].str.lower().str.strip()"
   ]
  },
  {
   "cell_type": "code",
   "execution_count": 9,
   "metadata": {},
   "outputs": [],
   "source": [
    "# Remove nan value\n",
    "values = {'Answer Label': 'na'}\n",
    "data_df = data_df.fillna(value=values)"
   ]
  },
  {
   "cell_type": "code",
   "execution_count": 10,
   "metadata": {
    "scrolled": true
   },
   "outputs": [
    {
     "name": "stdout",
     "output_type": "stream",
     "text": [
      "questionId: 156 Length: 2\n",
      "Is perfect pitch something you're born with?https://skeptics.stackexchange.com/questions/3274#3281\n",
      "Can blood group affect behavior?\n",
      "Can blood group affect behavior?\n",
      "\n",
      "\n",
      "questionId: 42915 Length: 2\n",
      "Does General Relativity bring Cosmic Time\n",
      "Does General Relativity bring Cosmic Time  which is the same for all frames-of-reference?\n",
      "\n",
      "\n",
      "questionId: 44749 Length: 3\n",
      "Does one SUV tank of ethanol take as much grain as could feed a person for a whole year?https://skeptics.stackexchange.com/questions/41943#41944\n",
      "Does sunflower oil reduce LDL (bad) cholesterol more than olive oil?\n",
      "Does sunflower oil reduce LDL (bad) cholesterol more than olive oil?\n",
      "Does sunflower oil reduce LDL (bad) cholesterol more than olive oil?\n",
      "\n",
      "\n"
     ]
    }
   ],
   "source": [
    "#Group duplicate data by {questionId}\n",
    "grouped = data_df.groupby(['questionId'])\n",
    "\n",
    "#Iterate over the duplicate groups\n",
    "for ques_id,group in grouped:\n",
    "    \n",
    "    # Group based on question text\n",
    "    grouped_bytext = group.groupby(['Question'])\n",
    "    if len(grouped_bytext) != 1:\n",
    "        print('questionId:',ques_id, 'Length:',len(group['Question'].values))\n",
    "        print(*group['Question'].values,'\\n',sep='\\n')"
   ]
  },
  {
   "cell_type": "markdown",
   "metadata": {},
   "source": [
    "#### The above can be fixed by: \n",
    "- Dropping the malformed rows\n",
    "- Adding the missing value"
   ]
  },
  {
   "cell_type": "code",
   "execution_count": 11,
   "metadata": {},
   "outputs": [
    {
     "name": "stderr",
     "output_type": "stream",
     "text": [
      "C:\\Users\\PurusharthGPC\\AppData\\Roaming\\Python\\Python36\\site-packages\\pandas\\core\\indexing.py:966: SettingWithCopyWarning: \n",
      "A value is trying to be set on a copy of a slice from a DataFrame.\n",
      "Try using .loc[row_indexer,col_indexer] = value instead\n",
      "\n",
      "See the caveats in the documentation: https://pandas.pydata.org/pandas-docs/stable/user_guide/indexing.html#returning-a-view-versus-a-copy\n",
      "  self.obj[item] = s\n"
     ]
    }
   ],
   "source": [
    "# We can drop the columns containing malformed data\n",
    "_str1 = \"Is perfect pitch something you're born with?https://skeptics.stackexchange.com/questions/3274#3281 Can blood group affect behavior?\"\n",
    "_str2 = \"Does one SUV tank of ethanol take as much grain as could feed a person for a whole year?https://skeptics.stackexchange.com/questions/41943#41944 Does sunflower oil reduce LDL (bad) cholesterol more than olive oil?\"\n",
    "data_df = data_df[~data_df['Question'].str.replace('\\n',' ').isin([_str1,_str2])]\n",
    "\n",
    "# Modify the record that can be fixed\n",
    "_str3 = \"Does General Relativity bring Cosmic Time\"\n",
    "data_df.loc[data_df['Question'] == _str3,'Question'] = \"Does General Relativity bring Cosmic Time  which is the same for all frames-of-reference?\""
   ]
  },
  {
   "cell_type": "markdown",
   "metadata": {},
   "source": [
    "#### The unique questions obtained should now be of the same length, from both 'questionId' and 'Question' text. "
   ]
  },
  {
   "cell_type": "code",
   "execution_count": 12,
   "metadata": {},
   "outputs": [
    {
     "name": "stdout",
     "output_type": "stream",
     "text": [
      "Unique questions by 'questionId' column: 1066\n",
      "Unique questions by 'Question' column: 1066 \n",
      "\n",
      "Shape of data_df: (2896, 7)\n"
     ]
    }
   ],
   "source": [
    "# Unique Questions\n",
    "unique_questions_byid = len(set(data_df['questionId'].values))\n",
    "unique_questions_bytext = len(set(data_df['Question'].values))\n",
    "print('Unique questions by \\'questionId\\' column:',unique_questions_byid)\n",
    "print('Unique questions by \\'Question\\' column:',unique_questions_bytext,'\\n')\n",
    "print('Shape of data_df:',data_df.shape)"
   ]
  },
  {
   "cell_type": "markdown",
   "metadata": {},
   "source": [
    "### Finally, we recompute the statistics to see how the distribution has changed."
   ]
  },
  {
   "cell_type": "code",
   "execution_count": 13,
   "metadata": {},
   "outputs": [
    {
     "data": {
      "text/plain": [
       "<matplotlib.axes._subplots.AxesSubplot at 0x263a769a7f0>"
      ]
     },
     "execution_count": 13,
     "metadata": {},
     "output_type": "execute_result"
    },
    {
     "data": {
      "image/png": "[encoded data removed]",
      "text/plain": [
       "<Figure size 720x720 with 4 Axes>"
      ]
     },
     "metadata": {
      "needs_background": "light"
     },
     "output_type": "display_data"
    }
   ],
   "source": [
    "# Distribution of Question Ratings\n",
    "fig, axs = plt.subplots(nrows = 2, ncols=2, figsize=(10, 10))\n",
    "pd.Series(data_df['Question Rating'].values).value_counts().plot(kind = 'bar', title = 'Question Ratings', ax = axs[0,0])\n",
    "pd.Series(data_df['Answer Label'].values).value_counts().plot(kind = 'bar', title = 'Answer Labels', ax = axs[0,1])\n",
    "pd.Series(data_df['Answer Quality'].values).value_counts().plot(kind ='bar', title = 'Answer Quality', ax = axs[1,0])\n",
    "pd.Series(data_df['Factual'].values).value_counts().plot(kind = 'bar', title = 'Factual', ax = axs[1,1])"
   ]
  },
  {
   "cell_type": "markdown",
   "metadata": {},
   "source": [
    "### Now that the data has been cleaned, we further perform the following steps:\n",
    "- Perform majority voting on duplicate Question entries\n",
    "- Delete all non-factual questions"
   ]
  },
  {
   "cell_type": "code",
   "execution_count": 14,
   "metadata": {},
   "outputs": [
    {
     "data": {
      "text/html": [
       "<div>\n",
       "<style scoped>\n",
       "    .dataframe tbody tr th:only-of-type {\n",
       "        vertical-align: middle;\n",
       "    }\n",
       "\n",
       "    .dataframe tbody tr th {\n",
       "        vertical-align: top;\n",
       "    }\n",
       "\n",
       "    .dataframe thead th {\n",
       "        text-align: right;\n",
       "    }\n",
       "</style>\n",
       "<table border=\"1\" class=\"dataframe\">\n",
       "  <thead>\n",
       "    <tr style=\"text-align: right;\">\n",
       "      <th></th>\n",
       "      <th>Question</th>\n",
       "      <th>Answer URL</th>\n",
       "      <th>Answer Label</th>\n",
       "      <th>Question Rating</th>\n",
       "      <th>Answer Quality</th>\n",
       "      <th>Factual</th>\n",
       "      <th>questionId</th>\n",
       "    </tr>\n",
       "  </thead>\n",
       "  <tbody>\n",
       "    <tr>\n",
       "      <th>0</th>\n",
       "      <td>Does Bioptron VIP (Visible Incoherent Polarize...</td>\n",
       "      <td>https://skeptics.stackexchange.com/questions/5...</td>\n",
       "      <td>na</td>\n",
       "      <td>1.0</td>\n",
       "      <td>2.0</td>\n",
       "      <td>1.0</td>\n",
       "      <td>5017</td>\n",
       "    </tr>\n",
       "    <tr>\n",
       "      <th>1</th>\n",
       "      <td>Is Halal meat healthier to consume?</td>\n",
       "      <td>https://skeptics.stackexchange.com/questions/1...</td>\n",
       "      <td>no</td>\n",
       "      <td>2.0</td>\n",
       "      <td>1.0</td>\n",
       "      <td>1.0</td>\n",
       "      <td>18628</td>\n",
       "    </tr>\n",
       "    <tr>\n",
       "      <th>2</th>\n",
       "      <td>Does catnip treat headache and coughs and inso...</td>\n",
       "      <td>https://skeptics.stackexchange.com/questions/7...</td>\n",
       "      <td>na</td>\n",
       "      <td>1.0</td>\n",
       "      <td>2.0</td>\n",
       "      <td>1.0</td>\n",
       "      <td>7367</td>\n",
       "    </tr>\n",
       "    <tr>\n",
       "      <th>3</th>\n",
       "      <td>Is climate change currently good for the world...</td>\n",
       "      <td>https://skeptics.stackexchange.com/questions/1...</td>\n",
       "      <td>no</td>\n",
       "      <td>2.0</td>\n",
       "      <td>3.0</td>\n",
       "      <td>1.0</td>\n",
       "      <td>18136</td>\n",
       "    </tr>\n",
       "    <tr>\n",
       "      <th>4</th>\n",
       "      <td>Does cooking with extra virgin olive oil cause...</td>\n",
       "      <td>https://skeptics.stackexchange.com/questions/1...</td>\n",
       "      <td>no</td>\n",
       "      <td>2.0</td>\n",
       "      <td>2.0</td>\n",
       "      <td>1.0</td>\n",
       "      <td>19180</td>\n",
       "    </tr>\n",
       "  </tbody>\n",
       "</table>\n",
       "</div>"
      ],
      "text/plain": [
       "                                            Question  \\\n",
       "0  Does Bioptron VIP (Visible Incoherent Polarize...   \n",
       "1                Is Halal meat healthier to consume?   \n",
       "2  Does catnip treat headache and coughs and inso...   \n",
       "3  Is climate change currently good for the world...   \n",
       "4  Does cooking with extra virgin olive oil cause...   \n",
       "\n",
       "                                          Answer URL Answer Label  \\\n",
       "0  https://skeptics.stackexchange.com/questions/5...           na   \n",
       "1  https://skeptics.stackexchange.com/questions/1...           no   \n",
       "2  https://skeptics.stackexchange.com/questions/7...           na   \n",
       "3  https://skeptics.stackexchange.com/questions/1...           no   \n",
       "4  https://skeptics.stackexchange.com/questions/1...           no   \n",
       "\n",
       "   Question Rating  Answer Quality  Factual  questionId  \n",
       "0              1.0             2.0      1.0        5017  \n",
       "1              2.0             1.0      1.0       18628  \n",
       "2              1.0             2.0      1.0        7367  \n",
       "3              2.0             3.0      1.0       18136  \n",
       "4              2.0             2.0      1.0       19180  "
      ]
     },
     "execution_count": 14,
     "metadata": {},
     "output_type": "execute_result"
    }
   ],
   "source": [
    "data_df.head()"
   ]
  },
  {
   "cell_type": "code",
   "execution_count": 15,
   "metadata": {},
   "outputs": [],
   "source": [
    "# Initialize an empty dataframe\n",
    "majority_df = pd.DataFrame(columns=data_df.columns)\n",
    "\n",
    "# Group-by and iterate data_df\n",
    "grouped = data_df.groupby(['questionId'])\n",
    "count = 0\n",
    "\n",
    "#Iterate over the duplicate groups\n",
    "for ques_id,group in grouped:\n",
    "    \n",
    "    # If no duplicate present\n",
    "    if len(group) == 1:\n",
    "        # Append to majority_df\n",
    "        majority_df = pd.concat([majority_df, group])\n",
    "        \n",
    "    else:\n",
    "        factual = stats.mode(group['Factual'].values)[0][0]\n",
    "        ans_label = stats.mode(group['Answer Label'].values)[0][0]\n",
    "        ques_rating = np.mean(group['Question Rating'].values.astype(float))\n",
    "        ans_quality = np.mean(group['Answer Quality'].values.astype(float))\n",
    "        \n",
    "        # Append to majority_df\n",
    "        question = group['Question'].values[0]\n",
    "        url = group['Answer URL'].values[0]\n",
    "        majority_df = majority_df.append(\n",
    "            {'Question':question, 'Answer Label':ans_label,'Question Rating':ques_rating, 'Answer Quality':ans_quality,'Factual':factual,'questionId':ques_id,'Answer URL':url}, ignore_index = True)\n",
    "        \n",
    "        "
   ]
  },
  {
   "cell_type": "code",
   "execution_count": 103,
   "metadata": {},
   "outputs": [],
   "source": [
    "# Delete all non-factual questions\n",
    "majority_df = majority_df[majority_df['Factual'] == 1.0]"
   ]
  },
  {
   "cell_type": "code",
   "execution_count": 104,
   "metadata": {},
   "outputs": [
    {
     "data": {
      "text/plain": [
       "(923, 7)"
      ]
     },
     "execution_count": 104,
     "metadata": {},
     "output_type": "execute_result"
    }
   ],
   "source": [
    "majority_df.shape"
   ]
  },
  {
   "cell_type": "code",
   "execution_count": 18,
   "metadata": {},
   "outputs": [
    {
     "data": {
      "text/html": [
       "<div>\n",
       "<style scoped>\n",
       "    .dataframe tbody tr th:only-of-type {\n",
       "        vertical-align: middle;\n",
       "    }\n",
       "\n",
       "    .dataframe tbody tr th {\n",
       "        vertical-align: top;\n",
       "    }\n",
       "\n",
       "    .dataframe thead th {\n",
       "        text-align: right;\n",
       "    }\n",
       "</style>\n",
       "<table border=\"1\" class=\"dataframe\">\n",
       "  <thead>\n",
       "    <tr style=\"text-align: right;\">\n",
       "      <th></th>\n",
       "      <th>Question</th>\n",
       "      <th>Answer URL</th>\n",
       "      <th>Answer Label</th>\n",
       "      <th>Question Rating</th>\n",
       "      <th>Answer Quality</th>\n",
       "      <th>Factual</th>\n",
       "      <th>questionId</th>\n",
       "    </tr>\n",
       "  </thead>\n",
       "  <tbody>\n",
       "    <tr>\n",
       "      <th>0</th>\n",
       "      <td>Does water have a memory as claimed in homeopa...</td>\n",
       "      <td>https://skeptics.stackexchange.com/questions/2#27</td>\n",
       "      <td>no</td>\n",
       "      <td>1.666667</td>\n",
       "      <td>2.333333</td>\n",
       "      <td>1.0</td>\n",
       "      <td>2</td>\n",
       "    </tr>\n",
       "    <tr>\n",
       "      <th>1</th>\n",
       "      <td>Does chamomile help you to relax?</td>\n",
       "      <td>https://skeptics.stackexchange.com/questions/3...</td>\n",
       "      <td>na</td>\n",
       "      <td>2.000000</td>\n",
       "      <td>2.000000</td>\n",
       "      <td>1.0</td>\n",
       "      <td>3</td>\n",
       "    </tr>\n",
       "    <tr>\n",
       "      <th>2</th>\n",
       "      <td>Are there benefits to the ECA stack for body-b...</td>\n",
       "      <td>https://skeptics.stackexchange.com/questions/2...</td>\n",
       "      <td>yes</td>\n",
       "      <td>1.666667</td>\n",
       "      <td>2.000000</td>\n",
       "      <td>1.0</td>\n",
       "      <td>22</td>\n",
       "    </tr>\n",
       "    <tr>\n",
       "      <th>3</th>\n",
       "      <td>Can positive thinking provide an improved outc...</td>\n",
       "      <td>https://skeptics.stackexchange.com/questions/2...</td>\n",
       "      <td>yes</td>\n",
       "      <td>2.666667</td>\n",
       "      <td>2.666667</td>\n",
       "      <td>1.0</td>\n",
       "      <td>26</td>\n",
       "    </tr>\n",
       "    <tr>\n",
       "      <th>4</th>\n",
       "      <td>Are vegetables good for me?</td>\n",
       "      <td>https://skeptics.stackexchange.com/questions/3...</td>\n",
       "      <td>yes</td>\n",
       "      <td>2.000000</td>\n",
       "      <td>2.333333</td>\n",
       "      <td>1.0</td>\n",
       "      <td>32</td>\n",
       "    </tr>\n",
       "  </tbody>\n",
       "</table>\n",
       "</div>"
      ],
      "text/plain": [
       "                                            Question  \\\n",
       "0  Does water have a memory as claimed in homeopa...   \n",
       "1                  Does chamomile help you to relax?   \n",
       "2  Are there benefits to the ECA stack for body-b...   \n",
       "3  Can positive thinking provide an improved outc...   \n",
       "4                        Are vegetables good for me?   \n",
       "\n",
       "                                          Answer URL Answer Label  \\\n",
       "0  https://skeptics.stackexchange.com/questions/2#27           no   \n",
       "1  https://skeptics.stackexchange.com/questions/3...           na   \n",
       "2  https://skeptics.stackexchange.com/questions/2...          yes   \n",
       "3  https://skeptics.stackexchange.com/questions/2...          yes   \n",
       "4  https://skeptics.stackexchange.com/questions/3...          yes   \n",
       "\n",
       "   Question Rating  Answer Quality  Factual questionId  \n",
       "0         1.666667        2.333333      1.0          2  \n",
       "1         2.000000        2.000000      1.0          3  \n",
       "2         1.666667        2.000000      1.0         22  \n",
       "3         2.666667        2.666667      1.0         26  \n",
       "4         2.000000        2.333333      1.0         32  "
      ]
     },
     "execution_count": 18,
     "metadata": {},
     "output_type": "execute_result"
    }
   ],
   "source": [
    "majority_df.head()"
   ]
  },
  {
   "cell_type": "markdown",
   "metadata": {},
   "source": [
    "### Now, we compute the inter-rater reliability"
   ]
  },
  {
   "cell_type": "code",
   "execution_count": 19,
   "metadata": {},
   "outputs": [
    {
     "name": "stdout",
     "output_type": "stream",
     "text": [
      "Answer Label 0.35229521492968385\n",
      "Factual 0.053187086092715274\n",
      "Question Rating 0.06762494449406009\n",
      "Answer Quality 0.17461897185164588\n"
     ]
    }
   ],
   "source": [
    "# Load data\n",
    "file_list = glob('./Dataset/crowdsourced_data/*/*.csv')\n",
    "user_dict = { file.split('\\\\')[-1].split('.')[0]:pd.read_csv(file) for file in file_list }\n",
    "\n",
    "# Clean each data_dict\n",
    "clean_questionIds = list(set(data_df['questionId'].values))\n",
    "\n",
    "# Answer labels\n",
    "label_dict = {'yes':2, 'no':1, 'na':0}\n",
    "\n",
    "# Clean for questionIds\n",
    "for user in user_dict:\n",
    "    user_df = user_dict[user]\n",
    "    \n",
    "    # Clean data\n",
    "    user_df = user_df[(user_df['questionId'].isin(clean_questionIds))]\n",
    "    user_df.loc[:,'Answer Label'] = user_df['Answer Label'].str.lower().str.strip()\n",
    "    user_df.loc[:,'Answer Label'] = user_df['Answer Label'].map(label_dict)\n",
    "    user_dict[user] = user_df\n",
    "    \n",
    "# Create user matrix for ratings\n",
    "rating_mat = np.ones((len(user_dict),len(clean_questionIds))) * np.nan\n",
    "\n",
    "#Answer Label\tQuestion Rating\tAnswer Quality\tFactual\n",
    "key_list = ['Answer Label', 'Factual', 'Question Rating', 'Answer Quality']\n",
    "\n",
    "for current_key in key_list:\n",
    "\n",
    "    # Iterate over users and fill the matrix\n",
    "    for i,user in enumerate(user_dict):\n",
    "\n",
    "        # Get user data\n",
    "        user_df = user_dict[user]\n",
    "        user_questions = list(user_df['questionId'].values)\n",
    "        user_ratings = list(user_df[current_key].values)\n",
    "\n",
    "        # Fill rating_mat\n",
    "        for j,ques in enumerate(clean_questionIds):\n",
    "\n",
    "            if ques in user_questions:\n",
    "                rating_mat[i,j] = user_ratings[user_questions.index(ques)]\n",
    "\n",
    "    print(current_key, krippendorff.alpha(rating_mat))\n",
    "\n",
    "\n",
    "    "
   ]
  },
  {
   "cell_type": "code",
   "execution_count": 20,
   "metadata": {},
   "outputs": [],
   "source": [
    "import string\n",
    "def preprocess_text(df):    \n",
    "\n",
    "    # remove leading/trailing spaces\n",
    "    df = df.str.strip()\n",
    "    \n",
    "    # convert to lowercase\n",
    "    df = df.str.lower()\n",
    "    \n",
    "    df = df.replace(to_replace ='http\\S+', value = '', regex = True)\n",
    "    \n",
    "    # remove punctuation\n",
    "    translator = str.maketrans('', '', string.punctuation) \n",
    "    df = df.str.translate(translator)\n",
    "    \n",
    "    # remove non-alphanumeric characters\n",
    "    df = df.replace(to_replace ='\\s*[^A-Za-z0-9]+\\s*', value = ' ', regex = True)\n",
    "    \n",
    "    # remove digits\n",
    "    translator = str.maketrans('', '', string.digits) \n",
    "    df = df.str.translate(translator)\n",
    "    \n",
    "    df = df.str.strip()\n",
    "    \n",
    "    #lemmatize\n",
    "    #df = df.apply(lemmatize_text)\n",
    "    \n",
    "    return df"
   ]
  },
  {
   "cell_type": "code",
   "execution_count": 21,
   "metadata": {},
   "outputs": [],
   "source": [
    "def lemmatize_text(text):\n",
    "    lemmatizer = WordNetLemmatizer()\n",
    "    return (' '.join(lemmatizer.lemmatize(w) for w in word_tokenize(text)))"
   ]
  },
  {
   "cell_type": "markdown",
   "metadata": {},
   "source": [
    "### Now train an answer detector"
   ]
  },
  {
   "cell_type": "code",
   "execution_count": 22,
   "metadata": {},
   "outputs": [],
   "source": [
    "# Load the Questions dataset\n",
    "ques_df = pd.read_csv('./Dataset/web_science_dataset.csv', sep = '\\t')\n",
    "ques_df = ques_df.drop(ques_df.columns[0], axis=1)"
   ]
  },
  {
   "cell_type": "code",
   "execution_count": 23,
   "metadata": {},
   "outputs": [
    {
     "data": {
      "text/html": [
       "<div>\n",
       "<style scoped>\n",
       "    .dataframe tbody tr th:only-of-type {\n",
       "        vertical-align: middle;\n",
       "    }\n",
       "\n",
       "    .dataframe tbody tr th {\n",
       "        vertical-align: top;\n",
       "    }\n",
       "\n",
       "    .dataframe thead th {\n",
       "        text-align: right;\n",
       "    }\n",
       "</style>\n",
       "<table border=\"1\" class=\"dataframe\">\n",
       "  <thead>\n",
       "    <tr style=\"text-align: right;\">\n",
       "      <th></th>\n",
       "      <th>Question</th>\n",
       "      <th>Answer URL</th>\n",
       "      <th>Answer Label</th>\n",
       "      <th>Question Rating</th>\n",
       "      <th>Answer Quality</th>\n",
       "      <th>Factual</th>\n",
       "      <th>questionId</th>\n",
       "      <th>answer</th>\n",
       "    </tr>\n",
       "  </thead>\n",
       "  <tbody>\n",
       "    <tr>\n",
       "      <th>0</th>\n",
       "      <td>Does water have a memory as claimed in homeopa...</td>\n",
       "      <td>https://skeptics.stackexchange.com/questions/2#27</td>\n",
       "      <td>no</td>\n",
       "      <td>1.666667</td>\n",
       "      <td>2.333333</td>\n",
       "      <td>1.0</td>\n",
       "      <td>2</td>\n",
       "      <td>No\\n\\nWater forms strong intermolecular forces...</td>\n",
       "    </tr>\n",
       "    <tr>\n",
       "      <th>1</th>\n",
       "      <td>Does chamomile help you to relax?</td>\n",
       "      <td>https://skeptics.stackexchange.com/questions/3...</td>\n",
       "      <td>na</td>\n",
       "      <td>2.000000</td>\n",
       "      <td>2.000000</td>\n",
       "      <td>1.0</td>\n",
       "      <td>3</td>\n",
       "      <td>There is a website by the NIH about Chamomile ...</td>\n",
       "    </tr>\n",
       "    <tr>\n",
       "      <th>2</th>\n",
       "      <td>Are there benefits to the ECA stack for body-b...</td>\n",
       "      <td>https://skeptics.stackexchange.com/questions/2...</td>\n",
       "      <td>yes</td>\n",
       "      <td>1.666667</td>\n",
       "      <td>2.000000</td>\n",
       "      <td>1.0</td>\n",
       "      <td>22</td>\n",
       "      <td>It appears that the combination of ephedrine a...</td>\n",
       "    </tr>\n",
       "    <tr>\n",
       "      <th>3</th>\n",
       "      <td>Can positive thinking provide an improved outc...</td>\n",
       "      <td>https://skeptics.stackexchange.com/questions/2...</td>\n",
       "      <td>yes</td>\n",
       "      <td>2.666667</td>\n",
       "      <td>2.666667</td>\n",
       "      <td>1.0</td>\n",
       "      <td>26</td>\n",
       "      <td>To add to Krzysztof's answer. There were also ...</td>\n",
       "    </tr>\n",
       "    <tr>\n",
       "      <th>4</th>\n",
       "      <td>Are vegetables good for me?</td>\n",
       "      <td>https://skeptics.stackexchange.com/questions/3...</td>\n",
       "      <td>yes</td>\n",
       "      <td>2.000000</td>\n",
       "      <td>2.333333</td>\n",
       "      <td>1.0</td>\n",
       "      <td>32</td>\n",
       "      <td>\\n  From a young age, most people are told tha...</td>\n",
       "    </tr>\n",
       "  </tbody>\n",
       "</table>\n",
       "</div>"
      ],
      "text/plain": [
       "                                            Question  \\\n",
       "0  Does water have a memory as claimed in homeopa...   \n",
       "1                  Does chamomile help you to relax?   \n",
       "2  Are there benefits to the ECA stack for body-b...   \n",
       "3  Can positive thinking provide an improved outc...   \n",
       "4                        Are vegetables good for me?   \n",
       "\n",
       "                                          Answer URL Answer Label  \\\n",
       "0  https://skeptics.stackexchange.com/questions/2#27           no   \n",
       "1  https://skeptics.stackexchange.com/questions/3...           na   \n",
       "2  https://skeptics.stackexchange.com/questions/2...          yes   \n",
       "3  https://skeptics.stackexchange.com/questions/2...          yes   \n",
       "4  https://skeptics.stackexchange.com/questions/3...          yes   \n",
       "\n",
       "   Question Rating  Answer Quality  Factual questionId  \\\n",
       "0         1.666667        2.333333      1.0          2   \n",
       "1         2.000000        2.000000      1.0          3   \n",
       "2         1.666667        2.000000      1.0         22   \n",
       "3         2.666667        2.666667      1.0         26   \n",
       "4         2.000000        2.333333      1.0         32   \n",
       "\n",
       "                                              answer  \n",
       "0  No\\n\\nWater forms strong intermolecular forces...  \n",
       "1  There is a website by the NIH about Chamomile ...  \n",
       "2  It appears that the combination of ephedrine a...  \n",
       "3  To add to Krzysztof's answer. There were also ...  \n",
       "4  \\n  From a young age, most people are told tha...  "
      ]
     },
     "execution_count": 23,
     "metadata": {},
     "output_type": "execute_result"
    }
   ],
   "source": [
    "# Join the 2 dataframe on questionId\n",
    "complete_ques_df = pd.merge(majority_df, ques_df[[\"questionId\",\"answer\"]], left_on='questionId', right_on='questionId', how = 'inner')\n",
    "complete_ques_df.head()"
   ]
  },
  {
   "cell_type": "code",
   "execution_count": 24,
   "metadata": {},
   "outputs": [],
   "source": [
    "# Clean the answers\n",
    "complete_ques_df.loc[:,'answer'] = complete_ques_df['answer'].str.replace('\"|Ô|Ç|Ø|Â|”|“|,|£','', regex = True).str.strip().str.lower()\n",
    "complete_ques_df['answer'] = preprocess_text(complete_ques_df['answer'])"
   ]
  },
  {
   "cell_type": "code",
   "execution_count": 25,
   "metadata": {},
   "outputs": [],
   "source": [
    "train_file = './Dataset/training_ids.txt'\n",
    "test_file = './Dataset/testing_ids.txt'\n",
    "\n",
    "# Load train and test ids\n",
    "train_ids = []\n",
    "test_ids = []\n",
    "\n",
    "with open(train_file, 'r') as f:\n",
    "    lines = f.readlines()\n",
    "    for line in lines:\n",
    "        train_ids.append(int(line.strip()))\n",
    "        \n",
    "with open(test_file, 'r') as f:\n",
    "    lines = f.readlines()\n",
    "    for line in lines:\n",
    "        test_ids.append(int(line.strip()))"
   ]
  },
  {
   "cell_type": "code",
   "execution_count": 26,
   "metadata": {},
   "outputs": [
    {
     "data": {
      "text/html": [
       "<div>\n",
       "<style scoped>\n",
       "    .dataframe tbody tr th:only-of-type {\n",
       "        vertical-align: middle;\n",
       "    }\n",
       "\n",
       "    .dataframe tbody tr th {\n",
       "        vertical-align: top;\n",
       "    }\n",
       "\n",
       "    .dataframe thead th {\n",
       "        text-align: right;\n",
       "    }\n",
       "</style>\n",
       "<table border=\"1\" class=\"dataframe\">\n",
       "  <thead>\n",
       "    <tr style=\"text-align: right;\">\n",
       "      <th></th>\n",
       "      <th>Question</th>\n",
       "      <th>Answer URL</th>\n",
       "      <th>Answer Label</th>\n",
       "      <th>Question Rating</th>\n",
       "      <th>Answer Quality</th>\n",
       "      <th>Factual</th>\n",
       "      <th>questionId</th>\n",
       "      <th>answer</th>\n",
       "    </tr>\n",
       "  </thead>\n",
       "  <tbody>\n",
       "    <tr>\n",
       "      <th>0</th>\n",
       "      <td>Does water have a memory as claimed in homeopa...</td>\n",
       "      <td>https://skeptics.stackexchange.com/questions/2#27</td>\n",
       "      <td>no</td>\n",
       "      <td>1.666667</td>\n",
       "      <td>2.333333</td>\n",
       "      <td>1.0</td>\n",
       "      <td>2</td>\n",
       "      <td>no water forms strong intermolecular forces be...</td>\n",
       "    </tr>\n",
       "    <tr>\n",
       "      <th>1</th>\n",
       "      <td>Does chamomile help you to relax?</td>\n",
       "      <td>https://skeptics.stackexchange.com/questions/3...</td>\n",
       "      <td>na</td>\n",
       "      <td>2.000000</td>\n",
       "      <td>2.000000</td>\n",
       "      <td>1.0</td>\n",
       "      <td>3</td>\n",
       "      <td>there is a website by the nih about chamomile ...</td>\n",
       "    </tr>\n",
       "    <tr>\n",
       "      <th>2</th>\n",
       "      <td>Are there benefits to the ECA stack for body-b...</td>\n",
       "      <td>https://skeptics.stackexchange.com/questions/2...</td>\n",
       "      <td>yes</td>\n",
       "      <td>1.666667</td>\n",
       "      <td>2.000000</td>\n",
       "      <td>1.0</td>\n",
       "      <td>22</td>\n",
       "      <td>it appears that the combination of ephedrine a...</td>\n",
       "    </tr>\n",
       "    <tr>\n",
       "      <th>3</th>\n",
       "      <td>Can positive thinking provide an improved outc...</td>\n",
       "      <td>https://skeptics.stackexchange.com/questions/2...</td>\n",
       "      <td>yes</td>\n",
       "      <td>2.666667</td>\n",
       "      <td>2.666667</td>\n",
       "      <td>1.0</td>\n",
       "      <td>26</td>\n",
       "      <td>to add to krzysztofs answer there were also st...</td>\n",
       "    </tr>\n",
       "    <tr>\n",
       "      <th>4</th>\n",
       "      <td>Are vegetables good for me?</td>\n",
       "      <td>https://skeptics.stackexchange.com/questions/3...</td>\n",
       "      <td>yes</td>\n",
       "      <td>2.000000</td>\n",
       "      <td>2.333333</td>\n",
       "      <td>1.0</td>\n",
       "      <td>32</td>\n",
       "      <td>from a young age most people are told that veg...</td>\n",
       "    </tr>\n",
       "  </tbody>\n",
       "</table>\n",
       "</div>"
      ],
      "text/plain": [
       "                                            Question  \\\n",
       "0  Does water have a memory as claimed in homeopa...   \n",
       "1                  Does chamomile help you to relax?   \n",
       "2  Are there benefits to the ECA stack for body-b...   \n",
       "3  Can positive thinking provide an improved outc...   \n",
       "4                        Are vegetables good for me?   \n",
       "\n",
       "                                          Answer URL Answer Label  \\\n",
       "0  https://skeptics.stackexchange.com/questions/2#27           no   \n",
       "1  https://skeptics.stackexchange.com/questions/3...           na   \n",
       "2  https://skeptics.stackexchange.com/questions/2...          yes   \n",
       "3  https://skeptics.stackexchange.com/questions/2...          yes   \n",
       "4  https://skeptics.stackexchange.com/questions/3...          yes   \n",
       "\n",
       "   Question Rating  Answer Quality  Factual questionId  \\\n",
       "0         1.666667        2.333333      1.0          2   \n",
       "1         2.000000        2.000000      1.0          3   \n",
       "2         1.666667        2.000000      1.0         22   \n",
       "3         2.666667        2.666667      1.0         26   \n",
       "4         2.000000        2.333333      1.0         32   \n",
       "\n",
       "                                              answer  \n",
       "0  no water forms strong intermolecular forces be...  \n",
       "1  there is a website by the nih about chamomile ...  \n",
       "2  it appears that the combination of ephedrine a...  \n",
       "3  to add to krzysztofs answer there were also st...  \n",
       "4  from a young age most people are told that veg...  "
      ]
     },
     "execution_count": 26,
     "metadata": {},
     "output_type": "execute_result"
    }
   ],
   "source": [
    "complete_ques_df.head()"
   ]
  },
  {
   "cell_type": "code",
   "execution_count": 27,
   "metadata": {},
   "outputs": [],
   "source": [
    "# Create train and test dataframes\n",
    "train_ques_df = complete_ques_df[(complete_ques_df['questionId'].isin(train_ids))]\n",
    "test_ques_df = complete_ques_df[(complete_ques_df['questionId'].isin(test_ids))]"
   ]
  },
  {
   "cell_type": "code",
   "execution_count": 28,
   "metadata": {},
   "outputs": [
    {
     "data": {
      "text/html": [
       "<div>\n",
       "<style scoped>\n",
       "    .dataframe tbody tr th:only-of-type {\n",
       "        vertical-align: middle;\n",
       "    }\n",
       "\n",
       "    .dataframe tbody tr th {\n",
       "        vertical-align: top;\n",
       "    }\n",
       "\n",
       "    .dataframe thead th {\n",
       "        text-align: right;\n",
       "    }\n",
       "</style>\n",
       "<table border=\"1\" class=\"dataframe\">\n",
       "  <thead>\n",
       "    <tr style=\"text-align: right;\">\n",
       "      <th></th>\n",
       "      <th>Question</th>\n",
       "      <th>Answer URL</th>\n",
       "      <th>Answer Label</th>\n",
       "      <th>Question Rating</th>\n",
       "      <th>Answer Quality</th>\n",
       "      <th>Factual</th>\n",
       "      <th>questionId</th>\n",
       "      <th>answer</th>\n",
       "    </tr>\n",
       "  </thead>\n",
       "  <tbody>\n",
       "    <tr>\n",
       "      <th>1</th>\n",
       "      <td>Does chamomile help you to relax?</td>\n",
       "      <td>https://skeptics.stackexchange.com/questions/3...</td>\n",
       "      <td>na</td>\n",
       "      <td>2.000000</td>\n",
       "      <td>2.000000</td>\n",
       "      <td>1.0</td>\n",
       "      <td>3</td>\n",
       "      <td>there is a website by the nih about chamomile ...</td>\n",
       "    </tr>\n",
       "    <tr>\n",
       "      <th>2</th>\n",
       "      <td>Are there benefits to the ECA stack for body-b...</td>\n",
       "      <td>https://skeptics.stackexchange.com/questions/2...</td>\n",
       "      <td>yes</td>\n",
       "      <td>1.666667</td>\n",
       "      <td>2.000000</td>\n",
       "      <td>1.0</td>\n",
       "      <td>22</td>\n",
       "      <td>it appears that the combination of ephedrine a...</td>\n",
       "    </tr>\n",
       "    <tr>\n",
       "      <th>3</th>\n",
       "      <td>Can positive thinking provide an improved outc...</td>\n",
       "      <td>https://skeptics.stackexchange.com/questions/2...</td>\n",
       "      <td>yes</td>\n",
       "      <td>2.666667</td>\n",
       "      <td>2.666667</td>\n",
       "      <td>1.0</td>\n",
       "      <td>26</td>\n",
       "      <td>to add to krzysztofs answer there were also st...</td>\n",
       "    </tr>\n",
       "    <tr>\n",
       "      <th>4</th>\n",
       "      <td>Are vegetables good for me?</td>\n",
       "      <td>https://skeptics.stackexchange.com/questions/3...</td>\n",
       "      <td>yes</td>\n",
       "      <td>2.000000</td>\n",
       "      <td>2.333333</td>\n",
       "      <td>1.0</td>\n",
       "      <td>32</td>\n",
       "      <td>from a young age most people are told that veg...</td>\n",
       "    </tr>\n",
       "    <tr>\n",
       "      <th>5</th>\n",
       "      <td>Do human activities contribute to climate change?</td>\n",
       "      <td>https://skeptics.stackexchange.com/questions/4...</td>\n",
       "      <td>yes</td>\n",
       "      <td>3.000000</td>\n",
       "      <td>3.000000</td>\n",
       "      <td>1.0</td>\n",
       "      <td>41</td>\n",
       "      <td>humans affect the weather in mainly the follow...</td>\n",
       "    </tr>\n",
       "    <tr>\n",
       "      <th>...</th>\n",
       "      <td>...</td>\n",
       "      <td>...</td>\n",
       "      <td>...</td>\n",
       "      <td>...</td>\n",
       "      <td>...</td>\n",
       "      <td>...</td>\n",
       "      <td>...</td>\n",
       "      <td>...</td>\n",
       "    </tr>\n",
       "    <tr>\n",
       "      <th>1059</th>\n",
       "      <td>Did 500 scientists sign a declaration saying T...</td>\n",
       "      <td>https://skeptics.stackexchange.com/questions/4...</td>\n",
       "      <td>na</td>\n",
       "      <td>2.000000</td>\n",
       "      <td>2.500000</td>\n",
       "      <td>1.0</td>\n",
       "      <td>45270</td>\n",
       "      <td>the list of  is available in this document the...</td>\n",
       "    </tr>\n",
       "    <tr>\n",
       "      <th>1061</th>\n",
       "      <td>Do different sections of candy corn taste diff...</td>\n",
       "      <td>https://skeptics.stackexchange.com/questions/4...</td>\n",
       "      <td>na</td>\n",
       "      <td>1.333333</td>\n",
       "      <td>1.000000</td>\n",
       "      <td>1.0</td>\n",
       "      <td>45317</td>\n",
       "      <td>there is a  october  article go inside the fac...</td>\n",
       "    </tr>\n",
       "    <tr>\n",
       "      <th>1062</th>\n",
       "      <td>Does milk make your bones stronger?</td>\n",
       "      <td>https://skeptics.stackexchange.com/questions/4...</td>\n",
       "      <td>yes</td>\n",
       "      <td>3.000000</td>\n",
       "      <td>3.000000</td>\n",
       "      <td>1.0</td>\n",
       "      <td>45356</td>\n",
       "      <td>a summary of recent evidence suggests in child...</td>\n",
       "    </tr>\n",
       "    <tr>\n",
       "      <th>1064</th>\n",
       "      <td>Can hypohydrosis (inability to sweat) be cause...</td>\n",
       "      <td>https://skeptics.stackexchange.com/questions/4...</td>\n",
       "      <td>no</td>\n",
       "      <td>1.666667</td>\n",
       "      <td>2.000000</td>\n",
       "      <td>1.0</td>\n",
       "      <td>45411</td>\n",
       "      <td>while i cant say hes lying theres no evidence ...</td>\n",
       "    </tr>\n",
       "    <tr>\n",
       "      <th>1065</th>\n",
       "      <td>Does blending fruit affect the fibre to make y...</td>\n",
       "      <td>https://skeptics.stackexchange.com/questions/4...</td>\n",
       "      <td>na</td>\n",
       "      <td>2.000000</td>\n",
       "      <td>3.000000</td>\n",
       "      <td>0.0</td>\n",
       "      <td>45472</td>\n",
       "      <td>it appears that this is an area of dispute amo...</td>\n",
       "    </tr>\n",
       "  </tbody>\n",
       "</table>\n",
       "<p>849 rows × 8 columns</p>\n",
       "</div>"
      ],
      "text/plain": [
       "                                               Question  \\\n",
       "1                     Does chamomile help you to relax?   \n",
       "2     Are there benefits to the ECA stack for body-b...   \n",
       "3     Can positive thinking provide an improved outc...   \n",
       "4                           Are vegetables good for me?   \n",
       "5     Do human activities contribute to climate change?   \n",
       "...                                                 ...   \n",
       "1059  Did 500 scientists sign a declaration saying T...   \n",
       "1061  Do different sections of candy corn taste diff...   \n",
       "1062                Does milk make your bones stronger?   \n",
       "1064  Can hypohydrosis (inability to sweat) be cause...   \n",
       "1065  Does blending fruit affect the fibre to make y...   \n",
       "\n",
       "                                             Answer URL Answer Label  \\\n",
       "1     https://skeptics.stackexchange.com/questions/3...           na   \n",
       "2     https://skeptics.stackexchange.com/questions/2...          yes   \n",
       "3     https://skeptics.stackexchange.com/questions/2...          yes   \n",
       "4     https://skeptics.stackexchange.com/questions/3...          yes   \n",
       "5     https://skeptics.stackexchange.com/questions/4...          yes   \n",
       "...                                                 ...          ...   \n",
       "1059  https://skeptics.stackexchange.com/questions/4...           na   \n",
       "1061  https://skeptics.stackexchange.com/questions/4...           na   \n",
       "1062  https://skeptics.stackexchange.com/questions/4...          yes   \n",
       "1064  https://skeptics.stackexchange.com/questions/4...           no   \n",
       "1065  https://skeptics.stackexchange.com/questions/4...           na   \n",
       "\n",
       "      Question Rating  Answer Quality  Factual questionId  \\\n",
       "1            2.000000        2.000000      1.0          3   \n",
       "2            1.666667        2.000000      1.0         22   \n",
       "3            2.666667        2.666667      1.0         26   \n",
       "4            2.000000        2.333333      1.0         32   \n",
       "5            3.000000        3.000000      1.0         41   \n",
       "...               ...             ...      ...        ...   \n",
       "1059         2.000000        2.500000      1.0      45270   \n",
       "1061         1.333333        1.000000      1.0      45317   \n",
       "1062         3.000000        3.000000      1.0      45356   \n",
       "1064         1.666667        2.000000      1.0      45411   \n",
       "1065         2.000000        3.000000      0.0      45472   \n",
       "\n",
       "                                                 answer  \n",
       "1     there is a website by the nih about chamomile ...  \n",
       "2     it appears that the combination of ephedrine a...  \n",
       "3     to add to krzysztofs answer there were also st...  \n",
       "4     from a young age most people are told that veg...  \n",
       "5     humans affect the weather in mainly the follow...  \n",
       "...                                                 ...  \n",
       "1059  the list of  is available in this document the...  \n",
       "1061  there is a  october  article go inside the fac...  \n",
       "1062  a summary of recent evidence suggests in child...  \n",
       "1064  while i cant say hes lying theres no evidence ...  \n",
       "1065  it appears that this is an area of dispute amo...  \n",
       "\n",
       "[849 rows x 8 columns]"
      ]
     },
     "execution_count": 28,
     "metadata": {},
     "output_type": "execute_result"
    }
   ],
   "source": [
    "train_ques_df"
   ]
  },
  {
   "cell_type": "code",
   "execution_count": 91,
   "metadata": {},
   "outputs": [],
   "source": [
    "#Using the Vectorizer, convert the data into numeric vectors\n",
    "from sklearn.feature_extraction.text import TfidfVectorizer\n",
    "from sklearn.model_selection import StratifiedShuffleSplit\n",
    "from nltk.stem.porter import PorterStemmer\n",
    "from sklearn.feature_extraction import text\n",
    "from scipy.spatial.distance import cosine\n",
    "import nltk\n",
    "\n",
    "# Stop words\n",
    "stop_words = text.ENGLISH_STOP_WORDS\n",
    "\n",
    "# Tokenizer\n",
    "def tokenize(text):\n",
    "    tokens = nltk.word_tokenize(text)\n",
    "    stems = []\n",
    "    for item in tokens:\n",
    "        if item not in stop_words:\n",
    "            stems.append(PorterStemmer().stem(item))\n",
    "    return stems\n",
    "\n",
    "# TF-IDF\n",
    "vectorizer = TfidfVectorizer(tokenizer = tokenize)\n",
    "\n",
    "# Extract training and test labels\n",
    "train_answers = train_ques_df['answer'].values\n",
    "test_answers = test_ques_df['answer'].values\n",
    "\n",
    "# Answer Labels\n",
    "label_map = {'yes':2,'no':1,'na':0}\n",
    "train_anslbl = train_ques_df['Answer Label'].values\n",
    "test_anslbl = test_ques_df['Answer Label'].values\n",
    "\n",
    "# Convert labels\n",
    "train_anslbl = [label_map[i] for i in train_anslbl]\n",
    "test_anslbl = [label_map[i] for i in test_anslbl]\n",
    "unique_anslbls = list(set(train_anslbl))\n",
    "\n",
    "# Train model for quality labels\n",
    "train_answer_vectors = vectorizer.fit_transform(train_answers)\n",
    "test_answer_vectors = vectorizer.transform(test_answers)"
   ]
  },
  {
   "cell_type": "code",
   "execution_count": 93,
   "metadata": {},
   "outputs": [
    {
     "name": "stdout",
     "output_type": "stream",
     "text": [
      "SVC(C=1, cache_size=200, class_weight=None, coef0=0.0,\n",
      "    decision_function_shape='ovr', degree=3, gamma='auto_deprecated',\n",
      "    kernel='linear', max_iter=1000, probability=False, random_state=None,\n",
      "    shrinking=True, tol=0.001, verbose=False) 0.4055299539170507 \n",
      "\n",
      "              precision    recall  f1-score   support\n",
      "\n",
      "           0       0.60      0.42      0.49       109\n",
      "           1       0.36      0.36      0.36        72\n",
      "           2       0.24      0.44      0.31        36\n",
      "\n",
      "    accuracy                           0.41       217\n",
      "   macro avg       0.40      0.41      0.39       217\n",
      "weighted avg       0.46      0.41      0.42       217\n",
      "\n",
      "RandomForestClassifier(bootstrap=True, class_weight=None, criterion='gini',\n",
      "                       max_depth=None, max_features='auto', max_leaf_nodes=None,\n",
      "                       min_impurity_decrease=0.0, min_impurity_split=None,\n",
      "                       min_samples_leaf=1, min_samples_split=2,\n",
      "                       min_weight_fraction_leaf=0.0, n_estimators=100,\n",
      "                       n_jobs=None, oob_score=False, random_state=0, verbose=0,\n",
      "                       warm_start=False) 0.4470046082949309 \n",
      "\n",
      "              precision    recall  f1-score   support\n",
      "\n",
      "           0       0.58      0.43      0.50       104\n",
      "           1       0.43      0.42      0.43        73\n",
      "           2       0.31      0.53      0.39        40\n",
      "\n",
      "    accuracy                           0.45       217\n",
      "   macro avg       0.44      0.46      0.44       217\n",
      "weighted avg       0.48      0.45      0.45       217\n",
      "\n"
     ]
    }
   ],
   "source": [
    "import numpy as np\n",
    "from sklearn import linear_model\n",
    "from sklearn import svm\n",
    "from sklearn.ensemble import RandomForestClassifier\n",
    "from sklearn.naive_bayes import MultinomialNB\n",
    "from sklearn.metrics import confusion_matrix\n",
    "from sklearn.metrics import classification_report\n",
    "\n",
    "classifiers = [\n",
    "    svm.SVC(C = 1, max_iter = 1000, kernel = 'linear'),\n",
    "    RandomForestClassifier(n_estimators = 100, random_state = 0)\n",
    "    #MultinomialNB()\n",
    "]\n",
    "\n",
    "\n",
    "pos_ans = []\n",
    "neg_ans = []\n",
    "clf = None\n",
    "\n",
    "for item in classifiers:\n",
    "    clf = item\n",
    "    clf.fit(train_answer_vectors, train_anslbl)\n",
    "    \n",
    "    # Get accuracy\n",
    "    print(item, clf.score(test_answer_vectors, test_anslbl),'\\n')\n",
    "    \n",
    "    # Predictions\n",
    "    predict = clf.predict(test_answer_vectors)\n",
    "    \n",
    "    #Measure the accuracy\n",
    "    print(classification_report(clf.predict(test_answer_vectors), test_anslbl))\n",
    "    \n",
    "        #Confusion Matrix\n",
    "        #print(confusion_matrix(test_anslbl, clf.predict(test_answer_vectors)))"
   ]
  },
  {
   "cell_type": "code",
   "execution_count": 83,
   "metadata": {},
   "outputs": [],
   "source": [
    "'''\n",
    "train_anslbl = train_ques_df['Answer Label'].values\n",
    "test_anslbl = test_ques_df['Answer Label'].values\n",
    "\n",
    "train_answers = train_ques_df['answer'].values\n",
    "test_answers = test_ques_df['answer'].values\n",
    "\n",
    "pos_text = []\n",
    "neg_text = []\n",
    "\n",
    "for ind in pos_ans:\n",
    "    pos_text.append(test_answers[ind])\n",
    "\n",
    "for ind in neg_ans:\n",
    "    neg_text.append(test_answers[ind])\n",
    "'''"
   ]
  },
  {
   "cell_type": "code",
   "execution_count": 84,
   "metadata": {},
   "outputs": [
    {
     "name": "stdout",
     "output_type": "stream",
     "text": [
      "[0]\n",
      "3\n"
     ]
    }
   ],
   "source": [
    "'''\n",
    "text = [\"this is an excellent opportunity to practice grass roots skepticism ask yourself by what mechanism is this supposed to work how does the proposed mechanism align with what we know about science biology physics etc also you may be interested to know that in some countries power balance must state that they have yes actual scientific backing for their claims the placebo band is just as effective and much cheaper what sort of demo was done at the expo was it applied kinesiology by any chance that is a well known bit of deliberate deception a quote from the first link emphasis mine power balance bracelets promise to improve balance strength and flexibility and feature some lofty endorsers shaquille o neal drew brees and nicole branagh an olympian from the university of minnesota yet the maker of the  bracelets admitted this week that there s yes scientific evidence that the things actually work the producers of power balance bracelets have sold them by the millions around the globe they adorn the celebrity wrists of robert de niro and kate middleton among others the hologramembedded rubbery bracelets work with your body s natural energy field in ways similar to concepts behind many eastern philosophies the power balance website explains these claims got the attention of the australian competition and consumer commission which compelled power balance to issue a letter that was published in various media outlets down under we admit that there is yes credible scientific evidence that supports our claims the company wrote therefore we engaged in misleading conduct\"]\n",
    "test_text = vectorizer.transform(text)\n",
    "print(clf.predict(test_text))\n",
    "\n",
    "\n",
    "print(text[0].count(\"no\"))\n",
    "'''"
   ]
  },
  {
   "cell_type": "code",
   "execution_count": 87,
   "metadata": {},
   "outputs": [],
   "source": [
    "'''\n",
    "feature_array = np.array(vectorizer.get_feature_names())\n",
    "tfidf_sorting_neg = np.argsort(neg_text).flatten()[::-1]\n",
    "tfidf_sorting_pos = np.argsort(pos_text).flatten()[::-1]\n",
    "\n",
    "\n",
    "n = 500\n",
    "top_n_neg = feature_array[tfidf_sorting_neg][:n]\n",
    "top_n_pos = feature_array[tfidf_sorting_pos][:n]\n",
    "'''"
   ]
  },
  {
   "cell_type": "code",
   "execution_count": null,
   "metadata": {},
   "outputs": [],
   "source": []
  },
  {
   "cell_type": "markdown",
   "metadata": {},
   "source": [
    "## Use BERT for text classification"
   ]
  },
  {
   "cell_type": "code",
   "execution_count": 94,
   "metadata": {},
   "outputs": [
    {
     "name": "stderr",
     "output_type": "stream",
     "text": [
      "C:\\Users\\PurusharthGPC\\AppData\\Roaming\\Python\\Python36\\site-packages\\ktrain\\text\\preprocessor.py:367: UserWarning: The class_names argument is replacing the classes argument. Please update your code.\n",
      "  warnings.warn('The class_names argument is replacing the classes argument. Please update your code.')\n"
     ]
    },
    {
     "name": "stdout",
     "output_type": "stream",
     "text": [
      "preprocessing train...\n",
      "language: en\n",
      "train sequence lengths:\n",
      "\tmean : 365\n",
      "\t95percentile : 956\n",
      "\t99percentile : 1848\n"
     ]
    },
    {
     "data": {
      "text/html": [],
      "text/plain": [
       "<IPython.core.display.HTML object>"
      ]
     },
     "metadata": {},
     "output_type": "display_data"
    },
    {
     "name": "stdout",
     "output_type": "stream",
     "text": [
      "preprocessing test...\n",
      "language: en\n",
      "test sequence lengths:\n",
      "\tmean : 331\n",
      "\t95percentile : 756\n",
      "\t99percentile : 1297\n"
     ]
    },
    {
     "data": {
      "text/html": [],
      "text/plain": [
       "<IPython.core.display.HTML object>"
      ]
     },
     "metadata": {},
     "output_type": "display_data"
    }
   ],
   "source": [
    "MODEL_NAME = 'distilbert-base-uncased'\n",
    "t = ktext.Transformer(MODEL_NAME, maxlen=500, classes=unique_anslbls)\n",
    "\n",
    "trn = t.preprocess_train(train_answers, train_anslbl)\n",
    "val = t.preprocess_test(test_answers, test_anslbl)\n",
    "\n",
    "\n",
    "model = t.get_classifier()\n",
    "learner = ktrain.get_learner(model, train_data=trn, val_data=val, batch_size=6)\n",
    "#learner.fit_onecycle(1e-5, 4)"
   ]
  },
  {
   "cell_type": "code",
   "execution_count": 101,
   "metadata": {},
   "outputs": [
    {
     "data": {
      "text/html": [],
      "text/plain": [
       "<IPython.core.display.HTML object>"
      ]
     },
     "metadata": {},
     "output_type": "display_data"
    },
    {
     "data": {
      "text/html": [],
      "text/plain": [
       "<IPython.core.display.HTML object>"
      ]
     },
     "metadata": {},
     "output_type": "display_data"
    },
    {
     "data": {
      "text/html": [],
      "text/plain": [
       "<IPython.core.display.HTML object>"
      ]
     },
     "metadata": {},
     "output_type": "display_data"
    },
    {
     "data": {
      "text/html": [],
      "text/plain": [
       "<IPython.core.display.HTML object>"
      ]
     },
     "metadata": {},
     "output_type": "display_data"
    },
    {
     "data": {
      "text/html": [],
      "text/plain": [
       "<IPython.core.display.HTML object>"
      ]
     },
     "metadata": {},
     "output_type": "display_data"
    },
    {
     "data": {
      "text/html": [],
      "text/plain": [
       "<IPython.core.display.HTML object>"
      ]
     },
     "metadata": {},
     "output_type": "display_data"
    },
    {
     "data": {
      "text/html": [],
      "text/plain": [
       "<IPython.core.display.HTML object>"
      ]
     },
     "metadata": {},
     "output_type": "display_data"
    },
    {
     "data": {
      "text/html": [],
      "text/plain": [
       "<IPython.core.display.HTML object>"
      ]
     },
     "metadata": {},
     "output_type": "display_data"
    },
    {
     "data": {
      "text/html": [],
      "text/plain": [
       "<IPython.core.display.HTML object>"
      ]
     },
     "metadata": {},
     "output_type": "display_data"
    },
    {
     "data": {
      "text/html": [],
      "text/plain": [
       "<IPython.core.display.HTML object>"
      ]
     },
     "metadata": {},
     "output_type": "display_data"
    },
    {
     "data": {
      "text/html": [],
      "text/plain": [
       "<IPython.core.display.HTML object>"
      ]
     },
     "metadata": {},
     "output_type": "display_data"
    },
    {
     "data": {
      "text/html": [],
      "text/plain": [
       "<IPython.core.display.HTML object>"
      ]
     },
     "metadata": {},
     "output_type": "display_data"
    },
    {
     "data": {
      "text/html": [],
      "text/plain": [
       "<IPython.core.display.HTML object>"
      ]
     },
     "metadata": {},
     "output_type": "display_data"
    },
    {
     "data": {
      "text/html": [],
      "text/plain": [
       "<IPython.core.display.HTML object>"
      ]
     },
     "metadata": {},
     "output_type": "display_data"
    },
    {
     "data": {
      "text/html": [],
      "text/plain": [
       "<IPython.core.display.HTML object>"
      ]
     },
     "metadata": {},
     "output_type": "display_data"
    },
    {
     "data": {
      "text/html": [],
      "text/plain": [
       "<IPython.core.display.HTML object>"
      ]
     },
     "metadata": {},
     "output_type": "display_data"
    },
    {
     "data": {
      "text/html": [],
      "text/plain": [
       "<IPython.core.display.HTML object>"
      ]
     },
     "metadata": {},
     "output_type": "display_data"
    },
    {
     "data": {
      "text/html": [],
      "text/plain": [
       "<IPython.core.display.HTML object>"
      ]
     },
     "metadata": {},
     "output_type": "display_data"
    },
    {
     "data": {
      "text/html": [],
      "text/plain": [
       "<IPython.core.display.HTML object>"
      ]
     },
     "metadata": {},
     "output_type": "display_data"
    },
    {
     "data": {
      "text/html": [],
      "text/plain": [
       "<IPython.core.display.HTML object>"
      ]
     },
     "metadata": {},
     "output_type": "display_data"
    },
    {
     "data": {
      "text/html": [],
      "text/plain": [
       "<IPython.core.display.HTML object>"
      ]
     },
     "metadata": {},
     "output_type": "display_data"
    },
    {
     "data": {
      "text/html": [],
      "text/plain": [
       "<IPython.core.display.HTML object>"
      ]
     },
     "metadata": {},
     "output_type": "display_data"
    },
    {
     "data": {
      "text/html": [],
      "text/plain": [
       "<IPython.core.display.HTML object>"
      ]
     },
     "metadata": {},
     "output_type": "display_data"
    },
    {
     "data": {
      "text/html": [],
      "text/plain": [
       "<IPython.core.display.HTML object>"
      ]
     },
     "metadata": {},
     "output_type": "display_data"
    },
    {
     "data": {
      "text/html": [],
      "text/plain": [
       "<IPython.core.display.HTML object>"
      ]
     },
     "metadata": {},
     "output_type": "display_data"
    },
    {
     "data": {
      "text/html": [],
      "text/plain": [
       "<IPython.core.display.HTML object>"
      ]
     },
     "metadata": {},
     "output_type": "display_data"
    },
    {
     "data": {
      "text/html": [],
      "text/plain": [
       "<IPython.core.display.HTML object>"
      ]
     },
     "metadata": {},
     "output_type": "display_data"
    },
    {
     "data": {
      "text/html": [],
      "text/plain": [
       "<IPython.core.display.HTML object>"
      ]
     },
     "metadata": {},
     "output_type": "display_data"
    },
    {
     "data": {
      "text/html": [],
      "text/plain": [
       "<IPython.core.display.HTML object>"
      ]
     },
     "metadata": {},
     "output_type": "display_data"
    },
    {
     "data": {
      "text/html": [],
      "text/plain": [
       "<IPython.core.display.HTML object>"
      ]
     },
     "metadata": {},
     "output_type": "display_data"
    },
    {
     "data": {
      "text/html": [],
      "text/plain": [
       "<IPython.core.display.HTML object>"
      ]
     },
     "metadata": {},
     "output_type": "display_data"
    },
    {
     "data": {
      "text/html": [],
      "text/plain": [
       "<IPython.core.display.HTML object>"
      ]
     },
     "metadata": {},
     "output_type": "display_data"
    },
    {
     "data": {
      "text/html": [],
      "text/plain": [
       "<IPython.core.display.HTML object>"
      ]
     },
     "metadata": {},
     "output_type": "display_data"
    },
    {
     "data": {
      "text/html": [],
      "text/plain": [
       "<IPython.core.display.HTML object>"
      ]
     },
     "metadata": {},
     "output_type": "display_data"
    },
    {
     "data": {
      "text/html": [],
      "text/plain": [
       "<IPython.core.display.HTML object>"
      ]
     },
     "metadata": {},
     "output_type": "display_data"
    },
    {
     "data": {
      "text/html": [],
      "text/plain": [
       "<IPython.core.display.HTML object>"
      ]
     },
     "metadata": {},
     "output_type": "display_data"
    },
    {
     "data": {
      "text/html": [],
      "text/plain": [
       "<IPython.core.display.HTML object>"
      ]
     },
     "metadata": {},
     "output_type": "display_data"
    },
    {
     "data": {
      "text/html": [],
      "text/plain": [
       "<IPython.core.display.HTML object>"
      ]
     },
     "metadata": {},
     "output_type": "display_data"
    },
    {
     "data": {
      "text/html": [],
      "text/plain": [
       "<IPython.core.display.HTML object>"
      ]
     },
     "metadata": {},
     "output_type": "display_data"
    },
    {
     "data": {
      "text/html": [],
      "text/plain": [
       "<IPython.core.display.HTML object>"
      ]
     },
     "metadata": {},
     "output_type": "display_data"
    },
    {
     "data": {
      "text/html": [],
      "text/plain": [
       "<IPython.core.display.HTML object>"
      ]
     },
     "metadata": {},
     "output_type": "display_data"
    },
    {
     "data": {
      "text/html": [],
      "text/plain": [
       "<IPython.core.display.HTML object>"
      ]
     },
     "metadata": {},
     "output_type": "display_data"
    },
    {
     "data": {
      "text/html": [],
      "text/plain": [
       "<IPython.core.display.HTML object>"
      ]
     },
     "metadata": {},
     "output_type": "display_data"
    },
    {
     "data": {
      "text/html": [],
      "text/plain": [
       "<IPython.core.display.HTML object>"
      ]
     },
     "metadata": {},
     "output_type": "display_data"
    },
    {
     "data": {
      "text/html": [],
      "text/plain": [
       "<IPython.core.display.HTML object>"
      ]
     },
     "metadata": {},
     "output_type": "display_data"
    },
    {
     "data": {
      "text/html": [],
      "text/plain": [
       "<IPython.core.display.HTML object>"
      ]
     },
     "metadata": {},
     "output_type": "display_data"
    },
    {
     "data": {
      "text/html": [],
      "text/plain": [
       "<IPython.core.display.HTML object>"
      ]
     },
     "metadata": {},
     "output_type": "display_data"
    },
    {
     "data": {
      "text/html": [],
      "text/plain": [
       "<IPython.core.display.HTML object>"
      ]
     },
     "metadata": {},
     "output_type": "display_data"
    },
    {
     "data": {
      "text/html": [],
      "text/plain": [
       "<IPython.core.display.HTML object>"
      ]
     },
     "metadata": {},
     "output_type": "display_data"
    },
    {
     "data": {
      "text/html": [],
      "text/plain": [
       "<IPython.core.display.HTML object>"
      ]
     },
     "metadata": {},
     "output_type": "display_data"
    },
    {
     "data": {
      "text/html": [],
      "text/plain": [
       "<IPython.core.display.HTML object>"
      ]
     },
     "metadata": {},
     "output_type": "display_data"
    },
    {
     "data": {
      "text/html": [],
      "text/plain": [
       "<IPython.core.display.HTML object>"
      ]
     },
     "metadata": {},
     "output_type": "display_data"
    },
    {
     "data": {
      "text/html": [],
      "text/plain": [
       "<IPython.core.display.HTML object>"
      ]
     },
     "metadata": {},
     "output_type": "display_data"
    },
    {
     "data": {
      "text/html": [],
      "text/plain": [
       "<IPython.core.display.HTML object>"
      ]
     },
     "metadata": {},
     "output_type": "display_data"
    },
    {
     "data": {
      "text/html": [],
      "text/plain": [
       "<IPython.core.display.HTML object>"
      ]
     },
     "metadata": {},
     "output_type": "display_data"
    },
    {
     "data": {
      "text/html": [],
      "text/plain": [
       "<IPython.core.display.HTML object>"
      ]
     },
     "metadata": {},
     "output_type": "display_data"
    },
    {
     "data": {
      "text/html": [],
      "text/plain": [
       "<IPython.core.display.HTML object>"
      ]
     },
     "metadata": {},
     "output_type": "display_data"
    },
    {
     "data": {
      "text/html": [],
      "text/plain": [
       "<IPython.core.display.HTML object>"
      ]
     },
     "metadata": {},
     "output_type": "display_data"
    },
    {
     "data": {
      "text/html": [],
      "text/plain": [
       "<IPython.core.display.HTML object>"
      ]
     },
     "metadata": {},
     "output_type": "display_data"
    },
    {
     "data": {
      "text/html": [],
      "text/plain": [
       "<IPython.core.display.HTML object>"
      ]
     },
     "metadata": {},
     "output_type": "display_data"
    },
    {
     "data": {
      "text/html": [],
      "text/plain": [
       "<IPython.core.display.HTML object>"
      ]
     },
     "metadata": {},
     "output_type": "display_data"
    },
    {
     "data": {
      "text/html": [],
      "text/plain": [
       "<IPython.core.display.HTML object>"
      ]
     },
     "metadata": {},
     "output_type": "display_data"
    },
    {
     "data": {
      "text/html": [],
      "text/plain": [
       "<IPython.core.display.HTML object>"
      ]
     },
     "metadata": {},
     "output_type": "display_data"
    },
    {
     "data": {
      "text/html": [],
      "text/plain": [
       "<IPython.core.display.HTML object>"
      ]
     },
     "metadata": {},
     "output_type": "display_data"
    },
    {
     "data": {
      "text/html": [],
      "text/plain": [
       "<IPython.core.display.HTML object>"
      ]
     },
     "metadata": {},
     "output_type": "display_data"
    },
    {
     "data": {
      "text/html": [],
      "text/plain": [
       "<IPython.core.display.HTML object>"
      ]
     },
     "metadata": {},
     "output_type": "display_data"
    },
    {
     "data": {
      "text/html": [],
      "text/plain": [
       "<IPython.core.display.HTML object>"
      ]
     },
     "metadata": {},
     "output_type": "display_data"
    },
    {
     "data": {
      "text/html": [],
      "text/plain": [
       "<IPython.core.display.HTML object>"
      ]
     },
     "metadata": {},
     "output_type": "display_data"
    },
    {
     "data": {
      "text/html": [],
      "text/plain": [
       "<IPython.core.display.HTML object>"
      ]
     },
     "metadata": {},
     "output_type": "display_data"
    },
    {
     "data": {
      "text/html": [],
      "text/plain": [
       "<IPython.core.display.HTML object>"
      ]
     },
     "metadata": {},
     "output_type": "display_data"
    },
    {
     "data": {
      "text/html": [],
      "text/plain": [
       "<IPython.core.display.HTML object>"
      ]
     },
     "metadata": {},
     "output_type": "display_data"
    },
    {
     "data": {
      "text/html": [],
      "text/plain": [
       "<IPython.core.display.HTML object>"
      ]
     },
     "metadata": {},
     "output_type": "display_data"
    },
    {
     "data": {
      "text/html": [],
      "text/plain": [
       "<IPython.core.display.HTML object>"
      ]
     },
     "metadata": {},
     "output_type": "display_data"
    },
    {
     "data": {
      "text/html": [],
      "text/plain": [
       "<IPython.core.display.HTML object>"
      ]
     },
     "metadata": {},
     "output_type": "display_data"
    },
    {
     "data": {
      "text/html": [],
      "text/plain": [
       "<IPython.core.display.HTML object>"
      ]
     },
     "metadata": {},
     "output_type": "display_data"
    },
    {
     "data": {
      "text/html": [],
      "text/plain": [
       "<IPython.core.display.HTML object>"
      ]
     },
     "metadata": {},
     "output_type": "display_data"
    },
    {
     "data": {
      "text/html": [],
      "text/plain": [
       "<IPython.core.display.HTML object>"
      ]
     },
     "metadata": {},
     "output_type": "display_data"
    },
    {
     "data": {
      "text/html": [],
      "text/plain": [
       "<IPython.core.display.HTML object>"
      ]
     },
     "metadata": {},
     "output_type": "display_data"
    },
    {
     "data": {
      "text/html": [],
      "text/plain": [
       "<IPython.core.display.HTML object>"
      ]
     },
     "metadata": {},
     "output_type": "display_data"
    },
    {
     "data": {
      "text/html": [],
      "text/plain": [
       "<IPython.core.display.HTML object>"
      ]
     },
     "metadata": {},
     "output_type": "display_data"
    },
    {
     "data": {
      "text/html": [],
      "text/plain": [
       "<IPython.core.display.HTML object>"
      ]
     },
     "metadata": {},
     "output_type": "display_data"
    },
    {
     "data": {
      "text/html": [],
      "text/plain": [
       "<IPython.core.display.HTML object>"
      ]
     },
     "metadata": {},
     "output_type": "display_data"
    },
    {
     "data": {
      "text/html": [],
      "text/plain": [
       "<IPython.core.display.HTML object>"
      ]
     },
     "metadata": {},
     "output_type": "display_data"
    },
    {
     "data": {
      "text/html": [],
      "text/plain": [
       "<IPython.core.display.HTML object>"
      ]
     },
     "metadata": {},
     "output_type": "display_data"
    },
    {
     "data": {
      "text/html": [],
      "text/plain": [
       "<IPython.core.display.HTML object>"
      ]
     },
     "metadata": {},
     "output_type": "display_data"
    },
    {
     "data": {
      "text/html": [],
      "text/plain": [
       "<IPython.core.display.HTML object>"
      ]
     },
     "metadata": {},
     "output_type": "display_data"
    },
    {
     "data": {
      "text/html": [],
      "text/plain": [
       "<IPython.core.display.HTML object>"
      ]
     },
     "metadata": {},
     "output_type": "display_data"
    },
    {
     "data": {
      "text/html": [],
      "text/plain": [
       "<IPython.core.display.HTML object>"
      ]
     },
     "metadata": {},
     "output_type": "display_data"
    },
    {
     "data": {
      "text/html": [],
      "text/plain": [
       "<IPython.core.display.HTML object>"
      ]
     },
     "metadata": {},
     "output_type": "display_data"
    },
    {
     "data": {
      "text/html": [],
      "text/plain": [
       "<IPython.core.display.HTML object>"
      ]
     },
     "metadata": {},
     "output_type": "display_data"
    },
    {
     "data": {
      "text/html": [],
      "text/plain": [
       "<IPython.core.display.HTML object>"
      ]
     },
     "metadata": {},
     "output_type": "display_data"
    },
    {
     "data": {
      "text/html": [],
      "text/plain": [
       "<IPython.core.display.HTML object>"
      ]
     },
     "metadata": {},
     "output_type": "display_data"
    },
    {
     "data": {
      "text/html": [],
      "text/plain": [
       "<IPython.core.display.HTML object>"
      ]
     },
     "metadata": {},
     "output_type": "display_data"
    },
    {
     "data": {
      "text/html": [],
      "text/plain": [
       "<IPython.core.display.HTML object>"
      ]
     },
     "metadata": {},
     "output_type": "display_data"
    },
    {
     "data": {
      "text/html": [],
      "text/plain": [
       "<IPython.core.display.HTML object>"
      ]
     },
     "metadata": {},
     "output_type": "display_data"
    },
    {
     "data": {
      "text/html": [],
      "text/plain": [
       "<IPython.core.display.HTML object>"
      ]
     },
     "metadata": {},
     "output_type": "display_data"
    },
    {
     "data": {
      "text/html": [],
      "text/plain": [
       "<IPython.core.display.HTML object>"
      ]
     },
     "metadata": {},
     "output_type": "display_data"
    },
    {
     "data": {
      "text/html": [],
      "text/plain": [
       "<IPython.core.display.HTML object>"
      ]
     },
     "metadata": {},
     "output_type": "display_data"
    },
    {
     "data": {
      "text/html": [],
      "text/plain": [
       "<IPython.core.display.HTML object>"
      ]
     },
     "metadata": {},
     "output_type": "display_data"
    },
    {
     "data": {
      "text/html": [],
      "text/plain": [
       "<IPython.core.display.HTML object>"
      ]
     },
     "metadata": {},
     "output_type": "display_data"
    },
    {
     "data": {
      "text/html": [],
      "text/plain": [
       "<IPython.core.display.HTML object>"
      ]
     },
     "metadata": {},
     "output_type": "display_data"
    },
    {
     "data": {
      "text/html": [],
      "text/plain": [
       "<IPython.core.display.HTML object>"
      ]
     },
     "metadata": {},
     "output_type": "display_data"
    },
    {
     "data": {
      "text/html": [],
      "text/plain": [
       "<IPython.core.display.HTML object>"
      ]
     },
     "metadata": {},
     "output_type": "display_data"
    },
    {
     "data": {
      "text/html": [],
      "text/plain": [
       "<IPython.core.display.HTML object>"
      ]
     },
     "metadata": {},
     "output_type": "display_data"
    },
    {
     "data": {
      "text/html": [],
      "text/plain": [
       "<IPython.core.display.HTML object>"
      ]
     },
     "metadata": {},
     "output_type": "display_data"
    },
    {
     "data": {
      "text/html": [],
      "text/plain": [
       "<IPython.core.display.HTML object>"
      ]
     },
     "metadata": {},
     "output_type": "display_data"
    },
    {
     "data": {
      "text/html": [],
      "text/plain": [
       "<IPython.core.display.HTML object>"
      ]
     },
     "metadata": {},
     "output_type": "display_data"
    },
    {
     "data": {
      "text/html": [],
      "text/plain": [
       "<IPython.core.display.HTML object>"
      ]
     },
     "metadata": {},
     "output_type": "display_data"
    },
    {
     "data": {
      "text/html": [],
      "text/plain": [
       "<IPython.core.display.HTML object>"
      ]
     },
     "metadata": {},
     "output_type": "display_data"
    },
    {
     "data": {
      "text/html": [],
      "text/plain": [
       "<IPython.core.display.HTML object>"
      ]
     },
     "metadata": {},
     "output_type": "display_data"
    },
    {
     "data": {
      "text/html": [],
      "text/plain": [
       "<IPython.core.display.HTML object>"
      ]
     },
     "metadata": {},
     "output_type": "display_data"
    },
    {
     "data": {
      "text/html": [],
      "text/plain": [
       "<IPython.core.display.HTML object>"
      ]
     },
     "metadata": {},
     "output_type": "display_data"
    },
    {
     "data": {
      "text/html": [],
      "text/plain": [
       "<IPython.core.display.HTML object>"
      ]
     },
     "metadata": {},
     "output_type": "display_data"
    },
    {
     "data": {
      "text/html": [],
      "text/plain": [
       "<IPython.core.display.HTML object>"
      ]
     },
     "metadata": {},
     "output_type": "display_data"
    },
    {
     "data": {
      "text/html": [],
      "text/plain": [
       "<IPython.core.display.HTML object>"
      ]
     },
     "metadata": {},
     "output_type": "display_data"
    },
    {
     "data": {
      "text/html": [],
      "text/plain": [
       "<IPython.core.display.HTML object>"
      ]
     },
     "metadata": {},
     "output_type": "display_data"
    },
    {
     "data": {
      "text/html": [],
      "text/plain": [
       "<IPython.core.display.HTML object>"
      ]
     },
     "metadata": {},
     "output_type": "display_data"
    },
    {
     "data": {
      "text/html": [],
      "text/plain": [
       "<IPython.core.display.HTML object>"
      ]
     },
     "metadata": {},
     "output_type": "display_data"
    },
    {
     "data": {
      "text/html": [],
      "text/plain": [
       "<IPython.core.display.HTML object>"
      ]
     },
     "metadata": {},
     "output_type": "display_data"
    },
    {
     "data": {
      "text/html": [],
      "text/plain": [
       "<IPython.core.display.HTML object>"
      ]
     },
     "metadata": {},
     "output_type": "display_data"
    },
    {
     "data": {
      "text/html": [],
      "text/plain": [
       "<IPython.core.display.HTML object>"
      ]
     },
     "metadata": {},
     "output_type": "display_data"
    },
    {
     "data": {
      "text/html": [],
      "text/plain": [
       "<IPython.core.display.HTML object>"
      ]
     },
     "metadata": {},
     "output_type": "display_data"
    },
    {
     "data": {
      "text/html": [],
      "text/plain": [
       "<IPython.core.display.HTML object>"
      ]
     },
     "metadata": {},
     "output_type": "display_data"
    },
    {
     "data": {
      "text/html": [],
      "text/plain": [
       "<IPython.core.display.HTML object>"
      ]
     },
     "metadata": {},
     "output_type": "display_data"
    },
    {
     "data": {
      "text/html": [],
      "text/plain": [
       "<IPython.core.display.HTML object>"
      ]
     },
     "metadata": {},
     "output_type": "display_data"
    },
    {
     "data": {
      "text/html": [],
      "text/plain": [
       "<IPython.core.display.HTML object>"
      ]
     },
     "metadata": {},
     "output_type": "display_data"
    },
    {
     "data": {
      "text/html": [],
      "text/plain": [
       "<IPython.core.display.HTML object>"
      ]
     },
     "metadata": {},
     "output_type": "display_data"
    },
    {
     "data": {
      "text/html": [],
      "text/plain": [
       "<IPython.core.display.HTML object>"
      ]
     },
     "metadata": {},
     "output_type": "display_data"
    },
    {
     "data": {
      "text/html": [],
      "text/plain": [
       "<IPython.core.display.HTML object>"
      ]
     },
     "metadata": {},
     "output_type": "display_data"
    },
    {
     "data": {
      "text/html": [],
      "text/plain": [
       "<IPython.core.display.HTML object>"
      ]
     },
     "metadata": {},
     "output_type": "display_data"
    },
    {
     "data": {
      "text/html": [],
      "text/plain": [
       "<IPython.core.display.HTML object>"
      ]
     },
     "metadata": {},
     "output_type": "display_data"
    },
    {
     "data": {
      "text/html": [],
      "text/plain": [
       "<IPython.core.display.HTML object>"
      ]
     },
     "metadata": {},
     "output_type": "display_data"
    },
    {
     "data": {
      "text/html": [],
      "text/plain": [
       "<IPython.core.display.HTML object>"
      ]
     },
     "metadata": {},
     "output_type": "display_data"
    },
    {
     "data": {
      "text/html": [],
      "text/plain": [
       "<IPython.core.display.HTML object>"
      ]
     },
     "metadata": {},
     "output_type": "display_data"
    },
    {
     "data": {
      "text/html": [],
      "text/plain": [
       "<IPython.core.display.HTML object>"
      ]
     },
     "metadata": {},
     "output_type": "display_data"
    },
    {
     "data": {
      "text/html": [],
      "text/plain": [
       "<IPython.core.display.HTML object>"
      ]
     },
     "metadata": {},
     "output_type": "display_data"
    },
    {
     "data": {
      "text/html": [],
      "text/plain": [
       "<IPython.core.display.HTML object>"
      ]
     },
     "metadata": {},
     "output_type": "display_data"
    },
    {
     "data": {
      "text/html": [],
      "text/plain": [
       "<IPython.core.display.HTML object>"
      ]
     },
     "metadata": {},
     "output_type": "display_data"
    },
    {
     "data": {
      "text/html": [],
      "text/plain": [
       "<IPython.core.display.HTML object>"
      ]
     },
     "metadata": {},
     "output_type": "display_data"
    },
    {
     "data": {
      "text/html": [],
      "text/plain": [
       "<IPython.core.display.HTML object>"
      ]
     },
     "metadata": {},
     "output_type": "display_data"
    },
    {
     "data": {
      "text/html": [],
      "text/plain": [
       "<IPython.core.display.HTML object>"
      ]
     },
     "metadata": {},
     "output_type": "display_data"
    },
    {
     "data": {
      "text/html": [],
      "text/plain": [
       "<IPython.core.display.HTML object>"
      ]
     },
     "metadata": {},
     "output_type": "display_data"
    },
    {
     "data": {
      "text/html": [],
      "text/plain": [
       "<IPython.core.display.HTML object>"
      ]
     },
     "metadata": {},
     "output_type": "display_data"
    },
    {
     "data": {
      "text/html": [],
      "text/plain": [
       "<IPython.core.display.HTML object>"
      ]
     },
     "metadata": {},
     "output_type": "display_data"
    },
    {
     "data": {
      "text/html": [],
      "text/plain": [
       "<IPython.core.display.HTML object>"
      ]
     },
     "metadata": {},
     "output_type": "display_data"
    },
    {
     "data": {
      "text/html": [],
      "text/plain": [
       "<IPython.core.display.HTML object>"
      ]
     },
     "metadata": {},
     "output_type": "display_data"
    },
    {
     "data": {
      "text/html": [],
      "text/plain": [
       "<IPython.core.display.HTML object>"
      ]
     },
     "metadata": {},
     "output_type": "display_data"
    },
    {
     "data": {
      "text/html": [],
      "text/plain": [
       "<IPython.core.display.HTML object>"
      ]
     },
     "metadata": {},
     "output_type": "display_data"
    },
    {
     "data": {
      "text/html": [],
      "text/plain": [
       "<IPython.core.display.HTML object>"
      ]
     },
     "metadata": {},
     "output_type": "display_data"
    },
    {
     "data": {
      "text/html": [],
      "text/plain": [
       "<IPython.core.display.HTML object>"
      ]
     },
     "metadata": {},
     "output_type": "display_data"
    },
    {
     "data": {
      "text/html": [],
      "text/plain": [
       "<IPython.core.display.HTML object>"
      ]
     },
     "metadata": {},
     "output_type": "display_data"
    },
    {
     "data": {
      "text/html": [],
      "text/plain": [
       "<IPython.core.display.HTML object>"
      ]
     },
     "metadata": {},
     "output_type": "display_data"
    },
    {
     "data": {
      "text/html": [],
      "text/plain": [
       "<IPython.core.display.HTML object>"
      ]
     },
     "metadata": {},
     "output_type": "display_data"
    },
    {
     "data": {
      "text/html": [],
      "text/plain": [
       "<IPython.core.display.HTML object>"
      ]
     },
     "metadata": {},
     "output_type": "display_data"
    },
    {
     "data": {
      "text/html": [],
      "text/plain": [
       "<IPython.core.display.HTML object>"
      ]
     },
     "metadata": {},
     "output_type": "display_data"
    },
    {
     "data": {
      "text/html": [],
      "text/plain": [
       "<IPython.core.display.HTML object>"
      ]
     },
     "metadata": {},
     "output_type": "display_data"
    },
    {
     "data": {
      "text/html": [],
      "text/plain": [
       "<IPython.core.display.HTML object>"
      ]
     },
     "metadata": {},
     "output_type": "display_data"
    },
    {
     "data": {
      "text/html": [],
      "text/plain": [
       "<IPython.core.display.HTML object>"
      ]
     },
     "metadata": {},
     "output_type": "display_data"
    },
    {
     "data": {
      "text/html": [],
      "text/plain": [
       "<IPython.core.display.HTML object>"
      ]
     },
     "metadata": {},
     "output_type": "display_data"
    },
    {
     "data": {
      "text/html": [],
      "text/plain": [
       "<IPython.core.display.HTML object>"
      ]
     },
     "metadata": {},
     "output_type": "display_data"
    },
    {
     "data": {
      "text/html": [],
      "text/plain": [
       "<IPython.core.display.HTML object>"
      ]
     },
     "metadata": {},
     "output_type": "display_data"
    },
    {
     "data": {
      "text/html": [],
      "text/plain": [
       "<IPython.core.display.HTML object>"
      ]
     },
     "metadata": {},
     "output_type": "display_data"
    },
    {
     "data": {
      "text/html": [],
      "text/plain": [
       "<IPython.core.display.HTML object>"
      ]
     },
     "metadata": {},
     "output_type": "display_data"
    },
    {
     "data": {
      "text/html": [],
      "text/plain": [
       "<IPython.core.display.HTML object>"
      ]
     },
     "metadata": {},
     "output_type": "display_data"
    },
    {
     "data": {
      "text/html": [],
      "text/plain": [
       "<IPython.core.display.HTML object>"
      ]
     },
     "metadata": {},
     "output_type": "display_data"
    },
    {
     "data": {
      "text/html": [],
      "text/plain": [
       "<IPython.core.display.HTML object>"
      ]
     },
     "metadata": {},
     "output_type": "display_data"
    },
    {
     "data": {
      "text/html": [],
      "text/plain": [
       "<IPython.core.display.HTML object>"
      ]
     },
     "metadata": {},
     "output_type": "display_data"
    },
    {
     "data": {
      "text/html": [],
      "text/plain": [
       "<IPython.core.display.HTML object>"
      ]
     },
     "metadata": {},
     "output_type": "display_data"
    },
    {
     "data": {
      "text/html": [],
      "text/plain": [
       "<IPython.core.display.HTML object>"
      ]
     },
     "metadata": {},
     "output_type": "display_data"
    },
    {
     "data": {
      "text/html": [],
      "text/plain": [
       "<IPython.core.display.HTML object>"
      ]
     },
     "metadata": {},
     "output_type": "display_data"
    },
    {
     "data": {
      "text/html": [],
      "text/plain": [
       "<IPython.core.display.HTML object>"
      ]
     },
     "metadata": {},
     "output_type": "display_data"
    },
    {
     "data": {
      "text/html": [],
      "text/plain": [
       "<IPython.core.display.HTML object>"
      ]
     },
     "metadata": {},
     "output_type": "display_data"
    },
    {
     "data": {
      "text/html": [],
      "text/plain": [
       "<IPython.core.display.HTML object>"
      ]
     },
     "metadata": {},
     "output_type": "display_data"
    },
    {
     "data": {
      "text/html": [],
      "text/plain": [
       "<IPython.core.display.HTML object>"
      ]
     },
     "metadata": {},
     "output_type": "display_data"
    },
    {
     "data": {
      "text/html": [],
      "text/plain": [
       "<IPython.core.display.HTML object>"
      ]
     },
     "metadata": {},
     "output_type": "display_data"
    },
    {
     "data": {
      "text/html": [],
      "text/plain": [
       "<IPython.core.display.HTML object>"
      ]
     },
     "metadata": {},
     "output_type": "display_data"
    },
    {
     "data": {
      "text/html": [],
      "text/plain": [
       "<IPython.core.display.HTML object>"
      ]
     },
     "metadata": {},
     "output_type": "display_data"
    },
    {
     "data": {
      "text/html": [],
      "text/plain": [
       "<IPython.core.display.HTML object>"
      ]
     },
     "metadata": {},
     "output_type": "display_data"
    },
    {
     "data": {
      "text/html": [],
      "text/plain": [
       "<IPython.core.display.HTML object>"
      ]
     },
     "metadata": {},
     "output_type": "display_data"
    },
    {
     "data": {
      "text/html": [],
      "text/plain": [
       "<IPython.core.display.HTML object>"
      ]
     },
     "metadata": {},
     "output_type": "display_data"
    },
    {
     "data": {
      "text/html": [],
      "text/plain": [
       "<IPython.core.display.HTML object>"
      ]
     },
     "metadata": {},
     "output_type": "display_data"
    },
    {
     "data": {
      "text/html": [],
      "text/plain": [
       "<IPython.core.display.HTML object>"
      ]
     },
     "metadata": {},
     "output_type": "display_data"
    },
    {
     "data": {
      "text/html": [],
      "text/plain": [
       "<IPython.core.display.HTML object>"
      ]
     },
     "metadata": {},
     "output_type": "display_data"
    },
    {
     "data": {
      "text/html": [],
      "text/plain": [
       "<IPython.core.display.HTML object>"
      ]
     },
     "metadata": {},
     "output_type": "display_data"
    },
    {
     "data": {
      "text/html": [],
      "text/plain": [
       "<IPython.core.display.HTML object>"
      ]
     },
     "metadata": {},
     "output_type": "display_data"
    },
    {
     "data": {
      "text/html": [],
      "text/plain": [
       "<IPython.core.display.HTML object>"
      ]
     },
     "metadata": {},
     "output_type": "display_data"
    },
    {
     "data": {
      "text/html": [],
      "text/plain": [
       "<IPython.core.display.HTML object>"
      ]
     },
     "metadata": {},
     "output_type": "display_data"
    },
    {
     "data": {
      "text/html": [],
      "text/plain": [
       "<IPython.core.display.HTML object>"
      ]
     },
     "metadata": {},
     "output_type": "display_data"
    },
    {
     "data": {
      "text/html": [],
      "text/plain": [
       "<IPython.core.display.HTML object>"
      ]
     },
     "metadata": {},
     "output_type": "display_data"
    },
    {
     "data": {
      "text/html": [],
      "text/plain": [
       "<IPython.core.display.HTML object>"
      ]
     },
     "metadata": {},
     "output_type": "display_data"
    },
    {
     "data": {
      "text/html": [],
      "text/plain": [
       "<IPython.core.display.HTML object>"
      ]
     },
     "metadata": {},
     "output_type": "display_data"
    },
    {
     "data": {
      "text/html": [],
      "text/plain": [
       "<IPython.core.display.HTML object>"
      ]
     },
     "metadata": {},
     "output_type": "display_data"
    },
    {
     "data": {
      "text/html": [],
      "text/plain": [
       "<IPython.core.display.HTML object>"
      ]
     },
     "metadata": {},
     "output_type": "display_data"
    },
    {
     "data": {
      "text/html": [],
      "text/plain": [
       "<IPython.core.display.HTML object>"
      ]
     },
     "metadata": {},
     "output_type": "display_data"
    },
    {
     "data": {
      "text/html": [],
      "text/plain": [
       "<IPython.core.display.HTML object>"
      ]
     },
     "metadata": {},
     "output_type": "display_data"
    },
    {
     "data": {
      "text/html": [],
      "text/plain": [
       "<IPython.core.display.HTML object>"
      ]
     },
     "metadata": {},
     "output_type": "display_data"
    },
    {
     "data": {
      "text/html": [],
      "text/plain": [
       "<IPython.core.display.HTML object>"
      ]
     },
     "metadata": {},
     "output_type": "display_data"
    },
    {
     "data": {
      "text/html": [],
      "text/plain": [
       "<IPython.core.display.HTML object>"
      ]
     },
     "metadata": {},
     "output_type": "display_data"
    },
    {
     "data": {
      "text/html": [],
      "text/plain": [
       "<IPython.core.display.HTML object>"
      ]
     },
     "metadata": {},
     "output_type": "display_data"
    },
    {
     "data": {
      "text/html": [],
      "text/plain": [
       "<IPython.core.display.HTML object>"
      ]
     },
     "metadata": {},
     "output_type": "display_data"
    },
    {
     "data": {
      "text/html": [],
      "text/plain": [
       "<IPython.core.display.HTML object>"
      ]
     },
     "metadata": {},
     "output_type": "display_data"
    },
    {
     "data": {
      "text/html": [],
      "text/plain": [
       "<IPython.core.display.HTML object>"
      ]
     },
     "metadata": {},
     "output_type": "display_data"
    },
    {
     "data": {
      "text/html": [],
      "text/plain": [
       "<IPython.core.display.HTML object>"
      ]
     },
     "metadata": {},
     "output_type": "display_data"
    },
    {
     "data": {
      "text/html": [],
      "text/plain": [
       "<IPython.core.display.HTML object>"
      ]
     },
     "metadata": {},
     "output_type": "display_data"
    },
    {
     "data": {
      "text/html": [],
      "text/plain": [
       "<IPython.core.display.HTML object>"
      ]
     },
     "metadata": {},
     "output_type": "display_data"
    },
    {
     "data": {
      "text/html": [],
      "text/plain": [
       "<IPython.core.display.HTML object>"
      ]
     },
     "metadata": {},
     "output_type": "display_data"
    },
    {
     "data": {
      "text/html": [],
      "text/plain": [
       "<IPython.core.display.HTML object>"
      ]
     },
     "metadata": {},
     "output_type": "display_data"
    },
    {
     "data": {
      "text/html": [],
      "text/plain": [
       "<IPython.core.display.HTML object>"
      ]
     },
     "metadata": {},
     "output_type": "display_data"
    },
    {
     "data": {
      "text/html": [],
      "text/plain": [
       "<IPython.core.display.HTML object>"
      ]
     },
     "metadata": {},
     "output_type": "display_data"
    },
    {
     "data": {
      "text/html": [],
      "text/plain": [
       "<IPython.core.display.HTML object>"
      ]
     },
     "metadata": {},
     "output_type": "display_data"
    },
    {
     "data": {
      "text/html": [],
      "text/plain": [
       "<IPython.core.display.HTML object>"
      ]
     },
     "metadata": {},
     "output_type": "display_data"
    },
    {
     "data": {
      "text/html": [],
      "text/plain": [
       "<IPython.core.display.HTML object>"
      ]
     },
     "metadata": {},
     "output_type": "display_data"
    },
    {
     "data": {
      "text/html": [],
      "text/plain": [
       "<IPython.core.display.HTML object>"
      ]
     },
     "metadata": {},
     "output_type": "display_data"
    },
    {
     "data": {
      "text/html": [],
      "text/plain": [
       "<IPython.core.display.HTML object>"
      ]
     },
     "metadata": {},
     "output_type": "display_data"
    },
    {
     "data": {
      "text/html": [],
      "text/plain": [
       "<IPython.core.display.HTML object>"
      ]
     },
     "metadata": {},
     "output_type": "display_data"
    },
    {
     "data": {
      "text/html": [],
      "text/plain": [
       "<IPython.core.display.HTML object>"
      ]
     },
     "metadata": {},
     "output_type": "display_data"
    },
    {
     "data": {
      "text/html": [],
      "text/plain": [
       "<IPython.core.display.HTML object>"
      ]
     },
     "metadata": {},
     "output_type": "display_data"
    }
   ],
   "source": [
    "predictor = ktrain.get_predictor(learner.model, t)\n",
    "#predictor.save('./mdl_bert_0.56')\n",
    "predictor = ktrain.load_predictor('./mdl_bert_0.56')\n",
    "#learner.validate(class_names=t.get_classes())\n",
    "\n",
    "predictions = []\n",
    "for text in test_answers:    \n",
    "    predictions.append(predictor.predict(text))\n",
    "\n"
   ]
  },
  {
   "cell_type": "code",
   "execution_count": 102,
   "metadata": {},
   "outputs": [
    {
     "name": "stdout",
     "output_type": "stream",
     "text": [
      "              precision    recall  f1-score   support\n",
      "\n",
      "           0       0.66      0.50      0.57       102\n",
      "           1       0.43      0.61      0.50        51\n",
      "           2       0.62      0.66      0.64        64\n",
      "\n",
      "    accuracy                           0.57       217\n",
      "   macro avg       0.57      0.59      0.57       217\n",
      "weighted avg       0.59      0.57      0.57       217\n",
      "\n"
     ]
    }
   ],
   "source": [
    "print(classification_report(predictions,test_anslbl))"
   ]
  },
  {
   "cell_type": "markdown",
   "metadata": {},
   "source": [
    "## BiLSTM"
   ]
  },
  {
   "cell_type": "code",
   "execution_count": 30,
   "metadata": {},
   "outputs": [],
   "source": [
    "#Create a Dataloader class\n",
    "import numpy as np\n",
    "from torch.autograd import Variable\n",
    "from torch.utils.data import Dataset, DataLoader\n",
    "import csv\n",
    "import gzip"
   ]
  },
  {
   "cell_type": "code",
   "execution_count": 31,
   "metadata": {},
   "outputs": [],
   "source": [
    "import torch\n",
    "import random\n",
    "import numpy as np\n",
    "from tqdm.notebook import tqdm\n",
    "from torch.utils.data import Dataset, DataLoader\n",
    "from torch import nn\n",
    "from torch.optim import Adam\n",
    "from typing import List, Tuple"
   ]
  },
  {
   "cell_type": "markdown",
   "metadata": {},
   "source": [
    "## Set all Random Seeds\n",
    "This ensures the results are deterministic."
   ]
  },
  {
   "cell_type": "code",
   "execution_count": 32,
   "metadata": {},
   "outputs": [],
   "source": [
    "# Seeds\n",
    "seed = 1000\n",
    "torch.manual_seed(seed)\n",
    "torch.cuda.manual_seed_all(seed)\n",
    "torch.backends.cudnn.deterministic = True\n",
    "torch.backends.cudnn.benchmark = False\n",
    "\n",
    "\n",
    "# Define some globals\n",
    "batch_size = 10\n",
    "lstm_dim = 50\n",
    "emb_vs_size = 25000\n",
    "device = torch.device(\"cpu\")\n",
    "if torch.cuda.is_available():\n",
    "  device = torch.device(\"cuda\")"
   ]
  },
  {
   "cell_type": "markdown",
   "metadata": {},
   "source": [
    "## Prepare Data"
   ]
  },
  {
   "cell_type": "code",
   "execution_count": 33,
   "metadata": {},
   "outputs": [],
   "source": [
    "def text_to_batch_bilstm(text, tokenizer):\n",
    "    \n",
    "    # Tokenise and encode using the Byte-Pair word embeddings\n",
    "    input_ids = [tokenizer.encode_ids_with_eos(t) for t in text]\n",
    "    return input_ids, [len(ids) for ids in input_ids]\n",
    "\n",
    "def collate_batch_bilstm(input_data):\n",
    "    input_ids = [i[0][0] for i in input_data]\n",
    "    seq_lens = [i[1][0] for i in input_data]\n",
    "    labels = [i[2] for i in input_data]\n",
    "\n",
    "    max_length = max([len(i) for i in input_ids])\n",
    "\n",
    "    input_ids = [(i + [emb_vs_size] * (max_length - len(i))) for i in input_ids]\n",
    "\n",
    "    assert (all(len(i) == max_length for i in input_ids))\n",
    "    return torch.tensor(input_ids), torch.tensor(seq_lens), torch.tensor(labels)\n",
    "\n",
    "class SentenceDataset(Dataset):\n",
    "    \n",
    "    \"\"\" Load the Sentence Dataset \"\"\"\n",
    "    def __init__(self, input_df, tokenizer):\n",
    "        \n",
    "        #Retrieve all questions and labels\n",
    "        self.questions = input_df['answer'].values\n",
    "        self.labels = input_df['Answer Label'].values\n",
    "        \n",
    "        #Store the dataset length\n",
    "        self.len = len(self.labels)\n",
    "        self.tokenizer = tokenizer\n",
    "    \n",
    "    def __getitem__(self, index):\n",
    "        \n",
    "        # Select the corresponding index\n",
    "        question = self.questions[index]\n",
    "        label = self.labels[index]\n",
    "        \n",
    "        # Tokenise the question text\n",
    "        input_ids, seq_lens = text_to_batch_bilstm([question], self.tokenizer)\n",
    "        return input_ids, seq_lens, self.labels[index]\n",
    "    \n",
    "    def __len__(self):\n",
    "        return self.len"
   ]
  },
  {
   "cell_type": "code",
   "execution_count": 34,
   "metadata": {},
   "outputs": [],
   "source": [
    "# Load the word embeddings\n",
    "from bpemb import BPEmb\n",
    "bpemb_en = BPEmb(lang='en', dim=300, vs=emb_vs_size)\n",
    "\n",
    "#Add 0 embedding for padding\n",
    "pretrained_embeddings = np.concatenate([bpemb_en.emb.vectors, np.zeros(shape=(1,300))], axis=0)\n",
    "vocabulary = bpemb_en.emb.index2word + ['[PAD]']"
   ]
  },
  {
   "cell_type": "code",
   "execution_count": 35,
   "metadata": {},
   "outputs": [
    {
     "name": "stderr",
     "output_type": "stream",
     "text": [
      "C:\\Users\\PurusharthGPC\\AppData\\Roaming\\Python\\Python36\\site-packages\\pandas\\core\\indexing.py:966: SettingWithCopyWarning: \n",
      "A value is trying to be set on a copy of a slice from a DataFrame.\n",
      "Try using .loc[row_indexer,col_indexer] = value instead\n",
      "\n",
      "See the caveats in the documentation: https://pandas.pydata.org/pandas-docs/stable/user_guide/indexing.html#returning-a-view-versus-a-copy\n",
      "  self.obj[item] = s\n"
     ]
    }
   ],
   "source": [
    "from sklearn.model_selection import train_test_split\n",
    "\n",
    "# Answer labels\n",
    "label_dict = {'yes':2, 'no':1, 'na':0}\n",
    " \n",
    "# Clean data\n",
    "train_ques_df.loc[:,'Answer Label'] = train_ques_df['Answer Label'].str.lower().str.strip()\n",
    "train_ques_df.loc[:,'Answer Label'] = train_ques_df['Answer Label'].map(label_dict)\n",
    "\n",
    "test_ques_df.loc[:,'Answer Label'] = test_ques_df['Answer Label'].str.lower().str.strip()\n",
    "test_ques_df.loc[:,'Answer Label'] = test_ques_df['Answer Label'].map(label_dict)\n",
    "\n",
    "# Split the data\n",
    "train_df, val_df = train_test_split(train_ques_df, test_size=0.2)\n",
    "test_df = test_ques_df"
   ]
  },
  {
   "cell_type": "code",
   "execution_count": 39,
   "metadata": {},
   "outputs": [],
   "source": [
    "# Load the train_dataset\n",
    "train_dataset = SentenceDataset(train_df, bpemb_en)\n",
    "train_dl = DataLoader(dataset=train_dataset, batch_size=64, shuffle=True, collate_fn=collate_batch_bilstm)\n",
    "\n",
    "# Load the validation_dataset\n",
    "val_dataset = SentenceDataset(val_df, bpemb_en)\n",
    "valid_dl = DataLoader(dataset=val_dataset, batch_size=64,shuffle=True, collate_fn=collate_batch_bilstm)\n",
    "\n",
    "# Load the testing dataset\n",
    "test_dataset = SentenceDataset(test_df, bpemb_en)\n",
    "test_dl = DataLoader(dataset=test_dataset, batch_size=len(test_dataset), shuffle=True, collate_fn=collate_batch_bilstm)"
   ]
  },
  {
   "cell_type": "code",
   "execution_count": 40,
   "metadata": {},
   "outputs": [
    {
     "data": {
      "text/html": [
       "<div>\n",
       "<style scoped>\n",
       "    .dataframe tbody tr th:only-of-type {\n",
       "        vertical-align: middle;\n",
       "    }\n",
       "\n",
       "    .dataframe tbody tr th {\n",
       "        vertical-align: top;\n",
       "    }\n",
       "\n",
       "    .dataframe thead th {\n",
       "        text-align: right;\n",
       "    }\n",
       "</style>\n",
       "<table border=\"1\" class=\"dataframe\">\n",
       "  <thead>\n",
       "    <tr style=\"text-align: right;\">\n",
       "      <th></th>\n",
       "      <th>Question</th>\n",
       "      <th>Answer URL</th>\n",
       "      <th>Answer Label</th>\n",
       "      <th>Question Rating</th>\n",
       "      <th>Answer Quality</th>\n",
       "      <th>Factual</th>\n",
       "      <th>questionId</th>\n",
       "      <th>answer</th>\n",
       "    </tr>\n",
       "  </thead>\n",
       "  <tbody>\n",
       "    <tr>\n",
       "      <th>820</th>\n",
       "      <td>Did Albert Einstein say the only reason for ti...</td>\n",
       "      <td>https://skeptics.stackexchange.com/questions/3...</td>\n",
       "      <td>1</td>\n",
       "      <td>2.0</td>\n",
       "      <td>3.000000</td>\n",
       "      <td>1.0</td>\n",
       "      <td>30400</td>\n",
       "      <td>the oldest confirmed use of any version of thi...</td>\n",
       "    </tr>\n",
       "    <tr>\n",
       "      <th>159</th>\n",
       "      <td>Have Vegemite Marmite and other yeast extracts...</td>\n",
       "      <td>https://skeptics.stackexchange.com/questions/3...</td>\n",
       "      <td>1</td>\n",
       "      <td>2.0</td>\n",
       "      <td>2.000000</td>\n",
       "      <td>0.0</td>\n",
       "      <td>3618</td>\n",
       "      <td>it hasnt been banned it simply needs to apply ...</td>\n",
       "    </tr>\n",
       "    <tr>\n",
       "      <th>334</th>\n",
       "      <td>Is the Rorschach test a reliable diagnostic to...</td>\n",
       "      <td>https://skeptics.stackexchange.com/questions/7...</td>\n",
       "      <td>0</td>\n",
       "      <td>2.0</td>\n",
       "      <td>3.000000</td>\n",
       "      <td>1.0</td>\n",
       "      <td>7424</td>\n",
       "      <td>this seems to be one of our questions which ha...</td>\n",
       "    </tr>\n",
       "    <tr>\n",
       "      <th>363</th>\n",
       "      <td>Do the effects of Chromotherapy have support i...</td>\n",
       "      <td>https://skeptics.stackexchange.com/questions/8...</td>\n",
       "      <td>0</td>\n",
       "      <td>2.0</td>\n",
       "      <td>2.666667</td>\n",
       "      <td>1.0</td>\n",
       "      <td>8055</td>\n",
       "      <td>chromotherapy is basically bunk its major tene...</td>\n",
       "    </tr>\n",
       "    <tr>\n",
       "      <th>1057</th>\n",
       "      <td>Does the USA have the highest cumulative CO2 e...</td>\n",
       "      <td>https://skeptics.stackexchange.com/questions/4...</td>\n",
       "      <td>2</td>\n",
       "      <td>2.0</td>\n",
       "      <td>2.000000</td>\n",
       "      <td>1.0</td>\n",
       "      <td>45065</td>\n",
       "      <td>the us is cumulatively responsible for more co...</td>\n",
       "    </tr>\n",
       "  </tbody>\n",
       "</table>\n",
       "</div>"
      ],
      "text/plain": [
       "                                               Question  \\\n",
       "820   Did Albert Einstein say the only reason for ti...   \n",
       "159   Have Vegemite Marmite and other yeast extracts...   \n",
       "334   Is the Rorschach test a reliable diagnostic to...   \n",
       "363   Do the effects of Chromotherapy have support i...   \n",
       "1057  Does the USA have the highest cumulative CO2 e...   \n",
       "\n",
       "                                             Answer URL  Answer Label  \\\n",
       "820   https://skeptics.stackexchange.com/questions/3...             1   \n",
       "159   https://skeptics.stackexchange.com/questions/3...             1   \n",
       "334   https://skeptics.stackexchange.com/questions/7...             0   \n",
       "363   https://skeptics.stackexchange.com/questions/8...             0   \n",
       "1057  https://skeptics.stackexchange.com/questions/4...             2   \n",
       "\n",
       "      Question Rating  Answer Quality  Factual questionId  \\\n",
       "820               2.0        3.000000      1.0      30400   \n",
       "159               2.0        2.000000      0.0       3618   \n",
       "334               2.0        3.000000      1.0       7424   \n",
       "363               2.0        2.666667      1.0       8055   \n",
       "1057              2.0        2.000000      1.0      45065   \n",
       "\n",
       "                                                 answer  \n",
       "820   the oldest confirmed use of any version of thi...  \n",
       "159   it hasnt been banned it simply needs to apply ...  \n",
       "334   this seems to be one of our questions which ha...  \n",
       "363   chromotherapy is basically bunk its major tene...  \n",
       "1057  the us is cumulatively responsible for more co...  "
      ]
     },
     "execution_count": 40,
     "metadata": {},
     "output_type": "execute_result"
    }
   ],
   "source": [
    "train_df.head()"
   ]
  },
  {
   "cell_type": "code",
   "execution_count": 41,
   "metadata": {},
   "outputs": [],
   "source": [
    "class LSTM_Model(torch.nn.Module):\n",
    "    \n",
    "    def __init__(self, pretrained_embeddings: torch.tensor,\n",
    "                n_classes: int,\n",
    "                lstm_dim: int,\n",
    "                dropout_prob: float = 0.1,\n",
    "                n_stack_lstm: int = 2):\n",
    "        \n",
    "        super(LSTM_Model, self).__init__()\n",
    "        \n",
    "        # Define Model layers\n",
    "        ## Embedding layer\n",
    "        self.embedding_layer = nn.Embedding.from_pretrained(pretrained_embeddings, padding_idx = pretrained_embeddings.shape[0]-1)\n",
    "        \n",
    "        ## BiLSTM layer\n",
    "        self.bilstm_layer = nn.LSTM(pretrained_embeddings.shape[1], lstm_dim, n_stack_lstm, batch_first = True, dropout = dropout_prob, bidirectional = True)\n",
    "        \n",
    "        ## Dense layer, 2 * lstm_dim -> because BiLSTM\n",
    "        self.dense_layer = nn.Linear(2 * lstm_dim, n_classes)\n",
    "        \n",
    "        # Initialize weights\n",
    "        parameter_list = list(self.bilstm_layer.named_parameters()) + list(self.dense_layer.named_parameters())\n",
    "        for name,param in parameter_list:\n",
    "            if name in ['bias']:\n",
    "                nn.init.zeros_(param)\n",
    "            elif name in ['weight']:\n",
    "                nn.init.xavier_normal_(param)\n",
    "        \n",
    "        # Save class size\n",
    "        self.n_classes = n_classes\n",
    "        \n",
    "    \n",
    "    def forward(self, inputs, input_seq_length, labels):\n",
    "        \n",
    "        # Encode input using the embedding layer\n",
    "        embedding = self.embedding_layer(inputs)\n",
    "        \n",
    "        # Pack padded: return PackedSequence object\n",
    "        lstm_in = nn.utils.rnn.pack_padded_sequence(embedding, input_seq_length, batch_first = True, enforce_sorted = False)\n",
    "        \n",
    "        # BiLSTM_input: Packed Sequence object\n",
    "        lstm_out, hidden = self.bilstm_layer(lstm_in)\n",
    "        lstm_out, _ = nn.utils.rnn.pad_packed_sequence(lstm_out, batch_first = True)\n",
    "        \n",
    "        # Extract the final state of all variable length inputs\n",
    "        ff_in = lstm_out.gather(1, input_seq_length.view(-1,1,1).expand(lstm_out.size(0), 1, lstm_out.size(2)) - 1).squeeze()\n",
    "\n",
    "        # Get logits (b x 2)\n",
    "        logits = self.dense_layer(ff_in).view(-1, self.n_classes)\n",
    "        outputs = (logits,)\n",
    "        if labels is not None:\n",
    "            loss_fn = nn.CrossEntropyLoss()\n",
    "            loss = loss_fn(logits, labels)\n",
    "            outputs = (loss,) + outputs\n",
    "\n",
    "        return outputs"
   ]
  },
  {
   "cell_type": "code",
   "execution_count": 42,
   "metadata": {},
   "outputs": [],
   "source": [
    "# Create the model\n",
    "model = LSTM_Model(\n",
    "    pretrained_embeddings=torch.FloatTensor(pretrained_embeddings),\n",
    "    n_classes=len(set(train_df['Answer Label'].values)),\n",
    "    lstm_dim=lstm_dim, \n",
    "    dropout_prob=0.2)\n",
    "\n",
    "# Use GPU for model training (or) use model.to(device)\n",
    "#model.cuda()\n",
    "model.to(device)\n",
    "\n",
    "# Set optimizer algorithm\n",
    "n_epochs = 150\n",
    "lr = 5e-4\n",
    "optimizer = Adam(model.parameters(), lr=lr)"
   ]
  },
  {
   "cell_type": "code",
   "execution_count": 43,
   "metadata": {},
   "outputs": [],
   "source": [
    "from livelossplot import PlotLosses\n",
    "# Compute model accuracy\n",
    "def accuracy(logits, labels):\n",
    "  return torch.sum(torch.argmax(logits, dim=-1) == labels).type(torch.float) / float(labels.shape[0])\n",
    "\n",
    "# Test model performance on test-data\n",
    "def test_model(model = model, test_dl = test_dl, device = device):\n",
    "  model.eval()\n",
    "  with torch.no_grad():    \n",
    "    for batch in test_dl:\n",
    "      batch = tuple(t.to(device) for t in batch)\n",
    "      input_ids = batch[0]\n",
    "      seq_lens = batch[1]\n",
    "      labels = batch[2]\n",
    "        \n",
    "      _test_loss, logits = model(input_ids, seq_lens, labels=labels)\n",
    "      acc = accuracy(logits, labels)\n",
    "        \n",
    "      print(f'Testing accuracy: {acc}','test_loss:',_test_loss.item())\n",
    "    \n",
    "# Train model\n",
    "def train(model = model, train_dl = train_dl, valid_dl = valid_dl, optimizer = optimizer, n_epochs = n_epochs, device = device):\n",
    "    \n",
    "  liveloss = PlotLosses()\n",
    "\n",
    "  # Initialize loss and accuracy \n",
    "  losses = []\n",
    "  best_loss = None\n",
    "  best_model = None\n",
    "    \n",
    "  for ep in range(n_epochs):\n",
    "    \n",
    "    # Store training logs\n",
    "    logs = {}\n",
    "    \n",
    "    print('Epoch:',ep)\n",
    "    \n",
    "    # Loss per epoch\n",
    "    loss_epoch = []\n",
    "    \n",
    "    for batch in tqdm(train_dl):  \n",
    "        \n",
    "      # Train model\n",
    "      model.train()\n",
    "      optimizer.zero_grad()\n",
    "      \n",
    "      # Get data from batch\n",
    "      batch = tuple(t.to(device) for t in batch)\n",
    "      input_ids = batch[0]\n",
    "      seq_lens = batch[1]\n",
    "      labels = batch[2]\n",
    "      \n",
    "      # Compute output and loss\n",
    "      loss, logits = model(input_ids, seq_lens, labels=labels)\n",
    "        \n",
    "      # Append per-epoch loss\n",
    "      losses.append(loss.item())\n",
    "      loss_epoch.append(loss.item())\n",
    "      \n",
    "      # Backpropogate loss\n",
    "      loss.backward()\n",
    "      optimizer.step()\n",
    "    \n",
    "    # Evaluate after epoch\n",
    "    model.eval()\n",
    "    \n",
    "    with torch.no_grad():\n",
    "      for batch in valid_dl:\n",
    "        \n",
    "        batch = tuple(t.to(device) for t in batch)\n",
    "        input_ids = batch[0]\n",
    "        seq_lens = batch[1]\n",
    "        labels = batch[2]\n",
    "\n",
    "        _val_loss, logits = model(input_ids, seq_lens, labels=labels)\n",
    "        acc = accuracy(logits, labels)\n",
    "        \n",
    "        # Print model performance stats\n",
    "        print(f'Validation accuracy: {acc}, train loss: {sum(loss_epoch) / len(loss_epoch)}', '\\nVal_loss:',_val_loss.item(),'\\n\\n')        \n",
    "        \n",
    "        # Save the model with lowest validation loss\n",
    "        if best_loss is None:\n",
    "            best_loss = _val_loss.item()\n",
    "            best_model = model.state_dict()\n",
    "            \n",
    "        elif _val_loss.item() < best_loss:\n",
    "            best_loss = _val_loss.item()\n",
    "            best_model = model.state_dict()\n",
    "            \n",
    "        # Save logs for plotting\n",
    "        logs['Train-loss'] = sum(loss_epoch) / len(loss_epoch)\n",
    "        logs['Validation-loss'] = _val_loss.item()\n",
    "    \n",
    "    liveloss.update(logs)\n",
    "    liveloss.draw()\n",
    "\n",
    "  model.load_state_dict(best_model)\n",
    "  return best_model"
   ]
  },
  {
   "cell_type": "code",
   "execution_count": null,
   "metadata": {},
   "outputs": [
    {
     "data": {
      "image/png": "[encoded data removed]",
      "text/plain": [
       "<Figure size 864x576 with 2 Axes>"
      ]
     },
     "metadata": {
      "needs_background": "light"
     },
     "output_type": "display_data"
    },
    {
     "name": "stdout",
     "output_type": "stream",
     "text": [
      "Train-loss:\n",
      "training   (min:    0.193, max:    1.095, cur:    0.193)\n",
      "\n",
      "Validation-loss:\n",
      "training   (min:    1.061, max:    2.611, cur:    2.611)\n",
      "Epoch: 20\n"
     ]
    },
    {
     "data": {
      "application/vnd.jupyter.widget-view+json": {
       "model_id": "23f767e475ef4d9b840e0bf7b2648d70",
       "version_major": 2,
       "version_minor": 0
      },
      "text/plain": [
       "HBox(children=(FloatProgress(value=0.0, max=11.0), HTML(value='')))"
      ]
     },
     "metadata": {},
     "output_type": "display_data"
    },
    {
     "name": "stdout",
     "output_type": "stream",
     "text": [
      "\n",
      "Validation accuracy: 0.25, train loss: 0.12486087801781567 \n",
      "Val_loss: 2.9522855281829834 \n",
      "\n",
      "\n"
     ]
    }
   ],
   "source": [
    "best_validation_model = train(model, train_dl, valid_dl, optimizer, n_epochs, device)"
   ]
  },
  {
   "cell_type": "code",
   "execution_count": 42,
   "metadata": {},
   "outputs": [],
   "source": [
    "torch.cuda.empty_cache()"
   ]
  },
  {
   "cell_type": "code",
   "execution_count": null,
   "metadata": {},
   "outputs": [],
   "source": []
  }
 ],
 "metadata": {
  "kernelspec": {
   "display_name": "Python 3",
   "language": "python",
   "name": "python3"
  },
  "language_info": {
   "codemirror_mode": {
    "name": "ipython",
    "version": 3
   },
   "file_extension": ".py",
   "mimetype": "text/x-python",
   "name": "python",
   "nbconvert_exporter": "python",
   "pygments_lexer": "ipython3",
   "version": "3.6.8"
  }
 },
 "nbformat": 4,
 "nbformat_minor": 2
}
