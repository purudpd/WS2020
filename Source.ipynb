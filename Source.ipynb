{
 "cells": [
  {
   "cell_type": "code",
   "execution_count": 42,
   "metadata": {},
   "outputs": [
    {
     "name": "stdout",
     "output_type": "stream",
     "text": [
      "Requirement already satisfied: bpemb in d:\\anaconda\\envs\\dl\\lib\\site-packages (0.3.0)\n",
      "Requirement already satisfied: requests in d:\\anaconda\\envs\\dl\\lib\\site-packages (from bpemb) (2.23.0)\n",
      "Requirement already satisfied: sentencepiece in d:\\anaconda\\envs\\dl\\lib\\site-packages (from bpemb) (0.1.85)\n",
      "Requirement already satisfied: tqdm in d:\\anaconda\\envs\\dl\\lib\\site-packages (from bpemb) (4.43.0)\n",
      "Requirement already satisfied: gensim in d:\\anaconda\\envs\\dl\\lib\\site-packages (from bpemb) (3.8.1)\n",
      "Requirement already satisfied: numpy in d:\\anaconda\\envs\\dl\\lib\\site-packages (from bpemb) (1.18.1)\n",
      "Requirement already satisfied: certifi>=2017.4.17 in d:\\anaconda\\envs\\dl\\lib\\site-packages (from requests->bpemb) (2019.11.28)\n",
      "Requirement already satisfied: urllib3!=1.25.0,!=1.25.1,<1.26,>=1.21.1 in d:\\anaconda\\envs\\dl\\lib\\site-packages (from requests->bpemb) (1.25.8)\n",
      "Requirement already satisfied: chardet<4,>=3.0.2 in d:\\anaconda\\envs\\dl\\lib\\site-packages (from requests->bpemb) (3.0.4)\n",
      "Requirement already satisfied: idna<3,>=2.5 in d:\\anaconda\\envs\\dl\\lib\\site-packages (from requests->bpemb) (2.9)\n",
      "Requirement already satisfied: scipy>=0.18.1 in d:\\anaconda\\envs\\dl\\lib\\site-packages (from gensim->bpemb) (1.4.1)\n",
      "Requirement already satisfied: smart-open>=1.8.1 in d:\\anaconda\\envs\\dl\\lib\\site-packages (from gensim->bpemb) (1.9.0)\n",
      "Requirement already satisfied: six>=1.5.0 in d:\\anaconda\\envs\\dl\\lib\\site-packages (from gensim->bpemb) (1.12.0)\n",
      "Requirement already satisfied: boto3 in d:\\anaconda\\envs\\dl\\lib\\site-packages (from smart-open>=1.8.1->gensim->bpemb) (1.12.5)\n",
      "Requirement already satisfied: boto>=2.32 in d:\\anaconda\\envs\\dl\\lib\\site-packages (from smart-open>=1.8.1->gensim->bpemb) (2.49.0)\n",
      "Requirement already satisfied: s3transfer<0.4.0,>=0.3.0 in d:\\anaconda\\envs\\dl\\lib\\site-packages (from boto3->smart-open>=1.8.1->gensim->bpemb) (0.3.3)\n",
      "Requirement already satisfied: botocore<1.16.0,>=1.15.5 in d:\\anaconda\\envs\\dl\\lib\\site-packages (from boto3->smart-open>=1.8.1->gensim->bpemb) (1.15.5)\n",
      "Requirement already satisfied: jmespath<1.0.0,>=0.7.1 in d:\\anaconda\\envs\\dl\\lib\\site-packages (from boto3->smart-open>=1.8.1->gensim->bpemb) (0.9.4)\n",
      "Requirement already satisfied: docutils<0.16,>=0.10 in d:\\anaconda\\envs\\dl\\lib\\site-packages (from botocore<1.16.0,>=1.15.5->boto3->smart-open>=1.8.1->gensim->bpemb) (0.15.2)\n",
      "Requirement already satisfied: python-dateutil<3.0.0,>=2.1 in d:\\anaconda\\envs\\dl\\lib\\site-packages (from botocore<1.16.0,>=1.15.5->boto3->smart-open>=1.8.1->gensim->bpemb) (2.8.0)\n",
      "Requirement already satisfied: torchsummary in d:\\anaconda\\envs\\dl\\lib\\site-packages (1.5.1)\n"
     ]
    }
   ],
   "source": [
    "!pip install bpemb\n",
    "!pip install torchsummary"
   ]
  },
  {
   "cell_type": "code",
   "execution_count": 67,
   "metadata": {},
   "outputs": [],
   "source": [
    "%reload_ext autoreload\n",
    "%autoreload 2\n",
    "%matplotlib inline"
   ]
  },
  {
   "cell_type": "markdown",
   "metadata": {},
   "source": [
    "# Load the QA dataset"
   ]
  },
  {
   "cell_type": "code",
   "execution_count": 3,
   "metadata": {},
   "outputs": [],
   "source": [
    "#Python Imports\n",
    "import json\n",
    "from pathlib import Path\n",
    "import numpy as np\n",
    "import pandas as pd\n",
    "from livelossplot import PlotLosses\n",
    "import nltk\n",
    "import random"
   ]
  },
  {
   "cell_type": "code",
   "execution_count": 4,
   "metadata": {},
   "outputs": [],
   "source": [
    "seed = 1000\n",
    "random.seed(seed)\n",
    "np.random.seed(seed)"
   ]
  },
  {
   "cell_type": "code",
   "execution_count": 5,
   "metadata": {},
   "outputs": [],
   "source": [
    "#Path to dataset\n",
    "path_dataset = Path(\"./Dataset/web_science_dataset.jsonl\")\n",
    "if not path_dataset.is_file():\n",
    "    print(\"File path incorrect!\")"
   ]
  },
  {
   "cell_type": "code",
   "execution_count": 6,
   "metadata": {},
   "outputs": [],
   "source": [
    "#Load the dataset into a list\n",
    "dataset_list = []\n",
    "with open(path_dataset, 'r') as file:\n",
    "    lines = file.readlines()\n",
    "    for line in lines:\n",
    "        data = json.loads(line)\n",
    "        dataset_list.append(data)"
   ]
  },
  {
   "cell_type": "code",
   "execution_count": 7,
   "metadata": {},
   "outputs": [],
   "source": [
    "#Convert data from list of dicts to dataframe\n",
    "data_df = pd.DataFrame.from_records(dataset_list)"
   ]
  },
  {
   "cell_type": "code",
   "execution_count": 8,
   "metadata": {
    "scrolled": true
   },
   "outputs": [
    {
     "name": "stdout",
     "output_type": "stream",
     "text": [
      "Total number of Questions:  1066\n"
     ]
    }
   ],
   "source": [
    "data_df.head()\n",
    "print('Total number of Questions: ',data_df['question'].values.shape[0])"
   ]
  },
  {
   "cell_type": "code",
   "execution_count": 9,
   "metadata": {},
   "outputs": [],
   "source": [
    "#Save the datafram to the csv\n",
    "data_df.to_csv(\"_dataset.csv\", sep='\\t', encoding='utf-8')"
   ]
  },
  {
   "cell_type": "code",
   "execution_count": 69,
   "metadata": {},
   "outputs": [
    {
     "name": "stdout",
     "output_type": "stream",
     "text": [
      "Collumn List:\n"
     ]
    },
    {
     "data": {
      "text/html": [
       "<div>\n",
       "<style scoped>\n",
       "    .dataframe tbody tr th:only-of-type {\n",
       "        vertical-align: middle;\n",
       "    }\n",
       "\n",
       "    .dataframe tbody tr th {\n",
       "        vertical-align: top;\n",
       "    }\n",
       "\n",
       "    .dataframe thead th {\n",
       "        text-align: right;\n",
       "    }\n",
       "</style>\n",
       "<table border=\"1\" class=\"dataframe\">\n",
       "  <thead>\n",
       "    <tr style=\"text-align: right;\">\n",
       "      <th></th>\n",
       "      <th>question</th>\n",
       "      <th>questionId</th>\n",
       "      <th>questionUrl</th>\n",
       "      <th>category</th>\n",
       "      <th>categoryId</th>\n",
       "      <th>answer</th>\n",
       "      <th>answerUrl</th>\n",
       "      <th>answerId</th>\n",
       "    </tr>\n",
       "  </thead>\n",
       "  <tbody>\n",
       "    <tr>\n",
       "      <th>0</th>\n",
       "      <td>Can headbanging cause brain damage?</td>\n",
       "      <td>14138</td>\n",
       "      <td>https://skeptics.stackexchange.com/questions/1...</td>\n",
       "      <td>medical-science</td>\n",
       "      <td>2</td>\n",
       "      <td>A number of injuries have been attributed to t...</td>\n",
       "      <td>https://skeptics.stackexchange.com/questions/1...</td>\n",
       "      <td>14139</td>\n",
       "    </tr>\n",
       "    <tr>\n",
       "      <th>1</th>\n",
       "      <td>Does the Shangri-La diet work (according to it...</td>\n",
       "      <td>10103</td>\n",
       "      <td>https://skeptics.stackexchange.com/questions/1...</td>\n",
       "      <td>nutrition</td>\n",
       "      <td>0</td>\n",
       "      <td>The Shangri-La diet depends on two theories:\\n...</td>\n",
       "      <td>https://skeptics.stackexchange.com/questions/1...</td>\n",
       "      <td>16121</td>\n",
       "    </tr>\n",
       "    <tr>\n",
       "      <th>2</th>\n",
       "      <td>Can phobias be genetic, but created in one gen...</td>\n",
       "      <td>18713</td>\n",
       "      <td>https://skeptics.stackexchange.com/questions/1...</td>\n",
       "      <td>psychology</td>\n",
       "      <td>4</td>\n",
       "      <td>This question has remained unanswered yet not ...</td>\n",
       "      <td>https://skeptics.stackexchange.com/questions/1...</td>\n",
       "      <td>22322</td>\n",
       "    </tr>\n",
       "    <tr>\n",
       "      <th>3</th>\n",
       "      <td>Do 40% of U.S. Americans think that global war...</td>\n",
       "      <td>36010</td>\n",
       "      <td>https://skeptics.stackexchange.com/questions/3...</td>\n",
       "      <td>climate-change</td>\n",
       "      <td>1</td>\n",
       "      <td>The&amp;nbsp;40% figure most likely comes from Pew...</td>\n",
       "      <td>https://skeptics.stackexchange.com/questions/3...</td>\n",
       "      <td>36011</td>\n",
       "    </tr>\n",
       "    <tr>\n",
       "      <th>4</th>\n",
       "      <td>Does boiling the same water twice make it dang...</td>\n",
       "      <td>11118</td>\n",
       "      <td>https://skeptics.stackexchange.com/questions/1...</td>\n",
       "      <td>nutrition</td>\n",
       "      <td>0</td>\n",
       "      <td>The claims\\n\\n\\nevery time the same water is b...</td>\n",
       "      <td>https://skeptics.stackexchange.com/questions/1...</td>\n",
       "      <td>11119</td>\n",
       "    </tr>\n",
       "  </tbody>\n",
       "</table>\n",
       "</div>"
      ],
      "text/plain": [
       "                                            question questionId  \\\n",
       "0                Can headbanging cause brain damage?      14138   \n",
       "1  Does the Shangri-La diet work (according to it...      10103   \n",
       "2  Can phobias be genetic, but created in one gen...      18713   \n",
       "3  Do 40% of U.S. Americans think that global war...      36010   \n",
       "4  Does boiling the same water twice make it dang...      11118   \n",
       "\n",
       "                                         questionUrl         category  \\\n",
       "0  https://skeptics.stackexchange.com/questions/1...  medical-science   \n",
       "1  https://skeptics.stackexchange.com/questions/1...        nutrition   \n",
       "2  https://skeptics.stackexchange.com/questions/1...       psychology   \n",
       "3  https://skeptics.stackexchange.com/questions/3...   climate-change   \n",
       "4  https://skeptics.stackexchange.com/questions/1...        nutrition   \n",
       "\n",
       "   categoryId                                             answer  \\\n",
       "0           2  A number of injuries have been attributed to t...   \n",
       "1           0  The Shangri-La diet depends on two theories:\\n...   \n",
       "2           4  This question has remained unanswered yet not ...   \n",
       "3           1  The&nbsp;40% figure most likely comes from Pew...   \n",
       "4           0  The claims\\n\\n\\nevery time the same water is b...   \n",
       "\n",
       "                                           answerUrl answerId  \n",
       "0  https://skeptics.stackexchange.com/questions/1...    14139  \n",
       "1  https://skeptics.stackexchange.com/questions/1...    16121  \n",
       "2  https://skeptics.stackexchange.com/questions/1...    22322  \n",
       "3  https://skeptics.stackexchange.com/questions/3...    36011  \n",
       "4  https://skeptics.stackexchange.com/questions/1...    11119  "
      ]
     },
     "execution_count": 69,
     "metadata": {},
     "output_type": "execute_result"
    }
   ],
   "source": [
    "#List the collumn headers\n",
    "print('Collumn List:')\n",
    "list(data_df.columns.values)\n",
    "data_df.head()"
   ]
  },
  {
   "cell_type": "markdown",
   "metadata": {},
   "source": [
    "# Generate statistics on the Dataset"
   ]
  },
  {
   "cell_type": "code",
   "execution_count": 65,
   "metadata": {},
   "outputs": [
    {
     "name": "stdout",
     "output_type": "stream",
     "text": [
      "          Category  ID  Question_mean  Question_std  Answer_mean  Answer_std\n",
      "0        nutrition   0       9.277778      3.498717   338.666667  378.635082\n",
      "1   climate-change   1      11.218750      3.805706   423.593750  328.899287\n",
      "2  medical-science   2       9.030120      3.164991   428.373494  406.564173\n",
      "3          physics   3       9.946237      3.424659   338.935484  382.001979\n",
      "4       psychology   4       9.252252      3.570319   413.932432  360.163902\n"
     ]
    }
   ],
   "source": [
    "#Compute data statistics\n",
    "def get_stats(x, Type):\n",
    "    sentence_length = [len(sentence.split(' ')) for sentence in x]\n",
    "    avg_length = np.mean(sentence_length)\n",
    "    std = np.std(sentence_length)\n",
    "    return {Type + \"_mean\":avg_length, Type + \"_std\":std}\n",
    "\n",
    "#Group data {Questions and Answers} by category\n",
    "grouped = data_df.groupby(['categoryId'])\n",
    "\n",
    "data_stats = []\n",
    "#Iterate over the groups\n",
    "for category,group in grouped:\n",
    "    \n",
    "    #Extract questions and answers\n",
    "    question_list = group['question'].values\n",
    "    answer_list = group['answer'].values\n",
    "    category_lbl = list(set(group['category'].values))\n",
    "    \n",
    "    #Get question and answer stats\n",
    "    row_dict = {}\n",
    "    row_dict['Category'] = category_lbl[0]\n",
    "    row_dict['ID'] = category\n",
    "    row_dict.update(get_stats(question_list, \"Question\"))\n",
    "    row_dict.update(get_stats(answer_list, \"Answer\"))\n",
    "    \n",
    "    \n",
    "    \n",
    "    #Save the stats\n",
    "    data_stats.append(row_dict)\n",
    "\n",
    "#Compute the statistics matrix\n",
    "df_statistics = pd.DataFrame.from_records(data_stats)\n",
    "print(df_statistics.head())"
   ]
  },
  {
   "cell_type": "markdown",
   "metadata": {},
   "source": [
    "## Question Category classification: Naive Bayes, Random Forest"
   ]
  },
  {
   "cell_type": "code",
   "execution_count": 13,
   "metadata": {},
   "outputs": [],
   "source": [
    "from sklearn.model_selection import StratifiedShuffleSplit\n",
    "#Retrieve all questions\n",
    "ques_list = data_df['question'].values\n",
    "ques_id = data_df['categoryId'].values\n",
    "\n",
    "# Split dataset\n",
    "ss = StratifiedShuffleSplit(n_splits=1, test_size=0.2, random_state=0)\n",
    "ss.get_n_splits(ques_list, ques_id)\n",
    "\n",
    "X_train = y_train = y_test = X_test = None\n",
    "for train_index, test_index in ss.split(ques_list, ques_id):\n",
    "    X_train, X_test = ques_list[train_index], ques_list[test_index]\n",
    "    y_train, y_test = ques_id[train_index], ques_id[test_index]"
   ]
  },
  {
   "cell_type": "code",
   "execution_count": 14,
   "metadata": {},
   "outputs": [],
   "source": [
    "#Using the Vectorizer, convert the data into numeric vectors\n",
    "from sklearn.feature_extraction.text import CountVectorizer, TfidfVectorizer\n",
    "from nltk.stem.porter import PorterStemmer\n",
    "from sklearn.feature_extraction import text\n",
    "\n",
    "# Stop words\n",
    "stop_words = text.ENGLISH_STOP_WORDS\n",
    "\n",
    "# Tokenizer\n",
    "def tokenize(text):\n",
    "    tokens = nltk.word_tokenize(text)\n",
    "    stems = []\n",
    "    for item in tokens:\n",
    "        if item not in stop_words:\n",
    "            stems.append(PorterStemmer().stem(item))\n",
    "    return stems\n",
    "\n",
    "# Vectorizer\n",
    "vectorizer = CountVectorizer(tokenizer = tokenize)\n",
    "\n",
    "#Apply the vectorizer on the question list\n",
    "question_vectors = vectorizer.fit_transform(X_train)\n",
    "_test_question_vectors = vectorizer.transform(X_test)"
   ]
  },
  {
   "cell_type": "code",
   "execution_count": 15,
   "metadata": {},
   "outputs": [
    {
     "data": {
      "text/plain": [
       "MultinomialNB(alpha=1.0, class_prior=None, fit_prior=True)"
      ]
     },
     "execution_count": 15,
     "metadata": {},
     "output_type": "execute_result"
    }
   ],
   "source": [
    "#Now, we apply the Multinomial Naive Bayes classifier\n",
    "from sklearn.naive_bayes import MultinomialNB\n",
    "from sklearn.model_selection import train_test_split, StratifiedShuffleSplit\n",
    "\n",
    "# classifier\n",
    "clf = MultinomialNB()\n",
    "    \n",
    "# Train the model\n",
    "clf.fit(question_vectors, y_train)"
   ]
  },
  {
   "cell_type": "code",
   "execution_count": 16,
   "metadata": {},
   "outputs": [
    {
     "data": {
      "text/plain": [
       "RandomForestClassifier(bootstrap=True, class_weight=None, criterion='gini',\n",
       "                       max_depth=None, max_features='auto', max_leaf_nodes=None,\n",
       "                       min_impurity_decrease=0.0, min_impurity_split=None,\n",
       "                       min_samples_leaf=1, min_samples_split=2,\n",
       "                       min_weight_fraction_leaf=0.0, n_estimators=100,\n",
       "                       n_jobs=None, oob_score=False, random_state=0, verbose=0,\n",
       "                       warm_start=False)"
      ]
     },
     "execution_count": 16,
     "metadata": {},
     "output_type": "execute_result"
    }
   ],
   "source": [
    "from sklearn.ensemble import RandomForestClassifier\n",
    "from sklearn.metrics import accuracy_score\n",
    "clf_forest = RandomForestClassifier(n_estimators = 100, random_state = 0)\n",
    "clf_forest.fit(question_vectors, y_train)"
   ]
  },
  {
   "cell_type": "code",
   "execution_count": 41,
   "metadata": {},
   "outputs": [
    {
     "name": "stdout",
     "output_type": "stream",
     "text": [
      "Naive Bayes               precision    recall  f1-score   support\n",
      "\n",
      "           0       0.95      0.62      0.75       123\n",
      "           1       0.74      0.88      0.80        16\n",
      "           2       0.24      0.89      0.38         9\n",
      "           3       0.59      0.76      0.67        29\n",
      "           4       0.67      0.81      0.73        37\n",
      "\n",
      "    accuracy                           0.70       214\n",
      "   macro avg       0.64      0.79      0.67       214\n",
      "weighted avg       0.81      0.70      0.72       214\n",
      "\n",
      "Random Forest               precision    recall  f1-score   support\n",
      "\n",
      "           0       0.85      0.52      0.64       131\n",
      "           1       0.68      0.87      0.76        15\n",
      "           2       0.18      0.55      0.27        11\n",
      "           3       0.35      0.68      0.46        19\n",
      "           4       0.51      0.61      0.55        38\n",
      "\n",
      "    accuracy                           0.57       214\n",
      "   macro avg       0.52      0.64      0.54       214\n",
      "weighted avg       0.70      0.57      0.60       214\n",
      "\n"
     ]
    }
   ],
   "source": [
    "from sklearn.metrics import classification_report\n",
    "#Measure the accuracy\n",
    "print('Naive Bayes',classification_report(clf.predict(_test_question_vectors), y_test))\n",
    "print('Random Forest', classification_report(clf_forest.predict(_test_question_vectors), y_test))\n"
   ]
  },
  {
   "cell_type": "markdown",
   "metadata": {},
   "source": [
    "# Question Category classification: BiLSTM"
   ]
  },
  {
   "cell_type": "code",
   "execution_count": 48,
   "metadata": {},
   "outputs": [],
   "source": [
    "#Create a Dataloader class\n",
    "import numpy as np\n",
    "from torch.autograd import Variable\n",
    "from torch.utils.data import Dataset, DataLoader\n",
    "import csv\n",
    "import gzip"
   ]
  },
  {
   "cell_type": "code",
   "execution_count": 49,
   "metadata": {},
   "outputs": [],
   "source": [
    "import torch\n",
    "import random\n",
    "import numpy as np\n",
    "from tqdm.notebook import tqdm\n",
    "from torch.utils.data import Dataset, DataLoader\n",
    "from torch import nn\n",
    "from torch.optim import Adam\n",
    "from typing import List, Tuple"
   ]
  },
  {
   "cell_type": "markdown",
   "metadata": {},
   "source": [
    "## Set all Random Seeds.\n",
    "This ensures the results are deterministic."
   ]
  },
  {
   "cell_type": "code",
   "execution_count": 50,
   "metadata": {},
   "outputs": [],
   "source": [
    "# Seeds\n",
    "seed = 1000\n",
    "torch.manual_seed(seed)\n",
    "torch.cuda.manual_seed_all(seed)\n",
    "torch.backends.cudnn.deterministic = True\n",
    "torch.backends.cudnn.benchmark = False\n",
    "\n",
    "\n",
    "# Define some globals\n",
    "batch_size = 10\n",
    "lstm_dim = 50\n",
    "emb_vs_size = 25000\n",
    "device = torch.device(\"cpu\")\n",
    "if torch.cuda.is_available():\n",
    "  device = torch.device(\"cuda\")"
   ]
  },
  {
   "cell_type": "markdown",
   "metadata": {},
   "source": [
    "# Prepare the dataset"
   ]
  },
  {
   "cell_type": "code",
   "execution_count": 51,
   "metadata": {},
   "outputs": [],
   "source": [
    "def text_to_batch_bilstm(text, tokenizer):\n",
    "    \n",
    "    # Tokenise and encode using the Byte-Pair word embeddings\n",
    "    input_ids = [tokenizer.encode_ids_with_eos(t) for t in text]\n",
    "    return input_ids, [len(ids) for ids in input_ids]\n",
    "\n",
    "def collate_batch_bilstm(input_data):\n",
    "    input_ids = [i[0][0] for i in input_data]\n",
    "    seq_lens = [i[1][0] for i in input_data]\n",
    "    labels = [i[2] for i in input_data]\n",
    "\n",
    "    max_length = max([len(i) for i in input_ids])\n",
    "\n",
    "    input_ids = [(i + [emb_vs_size] * (max_length - len(i))) for i in input_ids]\n",
    "\n",
    "    assert (all(len(i) == max_length for i in input_ids))\n",
    "    return torch.tensor(input_ids), torch.tensor(seq_lens), torch.tensor(labels)\n",
    "\n",
    "class SentenceDataset(Dataset):\n",
    "    \n",
    "    \"\"\" Load the Sentence Dataset \"\"\"\n",
    "    def __init__(self, input_df, tokenizer):\n",
    "        \n",
    "        #Retrieve all questions and labels\n",
    "        self.questions = input_df['question'].values\n",
    "        self.labels = input_df['categoryId'].values\n",
    "        \n",
    "        #Store the dataset length\n",
    "        self.len = len(self.labels)\n",
    "        self.tokenizer = tokenizer\n",
    "    \n",
    "    def __getitem__(self, index):\n",
    "        \n",
    "        # Select the corresponding index\n",
    "        question = self.questions[index]\n",
    "        label = self.labels[index]\n",
    "        \n",
    "        # Tokenise the question text\n",
    "        input_ids, seq_lens = text_to_batch_bilstm([question], self.tokenizer)\n",
    "        return input_ids, seq_lens, self.labels[index]\n",
    "    \n",
    "    def __len__(self):\n",
    "        return self.len"
   ]
  },
  {
   "cell_type": "code",
   "execution_count": 52,
   "metadata": {},
   "outputs": [],
   "source": [
    "# Load the word embeddings\n",
    "from bpemb import BPEmb\n",
    "bpemb_en = BPEmb(lang='en', dim=300, vs=emb_vs_size)\n",
    "\n",
    "#Add 0 embedding for padding\n",
    "pretrained_embeddings = np.concatenate([bpemb_en.emb.vectors, np.zeros(shape=(1,300))], axis=0)\n",
    "vocabulary = bpemb_en.emb.index2word + ['[PAD]']"
   ]
  },
  {
   "cell_type": "code",
   "execution_count": 53,
   "metadata": {},
   "outputs": [],
   "source": [
    "# Split the data\n",
    "train_df, test_df = train_test_split(data_df, stratify=data_df['categoryId'].values, test_size=0.2)\n",
    "test_df, val_df = train_test_split(test_df, stratify=test_df['categoryId'].values, test_size=0.5)"
   ]
  },
  {
   "cell_type": "code",
   "execution_count": 54,
   "metadata": {},
   "outputs": [
    {
     "data": {
      "text/html": [
       "<div>\n",
       "<style scoped>\n",
       "    .dataframe tbody tr th:only-of-type {\n",
       "        vertical-align: middle;\n",
       "    }\n",
       "\n",
       "    .dataframe tbody tr th {\n",
       "        vertical-align: top;\n",
       "    }\n",
       "\n",
       "    .dataframe thead th {\n",
       "        text-align: right;\n",
       "    }\n",
       "</style>\n",
       "<table border=\"1\" class=\"dataframe\">\n",
       "  <thead>\n",
       "    <tr style=\"text-align: right;\">\n",
       "      <th></th>\n",
       "      <th>question</th>\n",
       "      <th>questionId</th>\n",
       "      <th>questionUrl</th>\n",
       "      <th>category</th>\n",
       "      <th>categoryId</th>\n",
       "      <th>answer</th>\n",
       "      <th>answerUrl</th>\n",
       "      <th>answerId</th>\n",
       "    </tr>\n",
       "  </thead>\n",
       "  <tbody>\n",
       "    <tr>\n",
       "      <th>667</th>\n",
       "      <td>Is smoking weed bad for your health?</td>\n",
       "      <td>487</td>\n",
       "      <td>https://skeptics.stackexchange.com/questions/487</td>\n",
       "      <td>medical-science</td>\n",
       "      <td>2</td>\n",
       "      <td>I’m bothered with the ‘you smoke cigarettes an...</td>\n",
       "      <td>https://skeptics.stackexchange.com/questions/4...</td>\n",
       "      <td>5567</td>\n",
       "    </tr>\n",
       "    <tr>\n",
       "      <th>169</th>\n",
       "      <td>Is tequila a probiotic?</td>\n",
       "      <td>35736</td>\n",
       "      <td>https://skeptics.stackexchange.com/questions/3...</td>\n",
       "      <td>nutrition</td>\n",
       "      <td>0</td>\n",
       "      <td>The Facebook video is wrong because they have ...</td>\n",
       "      <td>https://skeptics.stackexchange.com/questions/3...</td>\n",
       "      <td>36811</td>\n",
       "    </tr>\n",
       "    <tr>\n",
       "      <th>510</th>\n",
       "      <td>Can those limited to the left side of their br...</td>\n",
       "      <td>14026</td>\n",
       "      <td>https://skeptics.stackexchange.com/questions/1...</td>\n",
       "      <td>psychology</td>\n",
       "      <td>4</td>\n",
       "      <td>\\n  Can those limited to the left side of thei...</td>\n",
       "      <td>https://skeptics.stackexchange.com/questions/1...</td>\n",
       "      <td>14039</td>\n",
       "    </tr>\n",
       "    <tr>\n",
       "      <th>849</th>\n",
       "      <td>Is the \"Back to the future\" Huvr board real?</td>\n",
       "      <td>19776</td>\n",
       "      <td>https://skeptics.stackexchange.com/questions/1...</td>\n",
       "      <td>physics</td>\n",
       "      <td>3</td>\n",
       "      <td>Looking at their own website, the product they...</td>\n",
       "      <td>https://skeptics.stackexchange.com/questions/1...</td>\n",
       "      <td>19779</td>\n",
       "    </tr>\n",
       "    <tr>\n",
       "      <th>222</th>\n",
       "      <td>Is a woman who dresses sexually suggestively m...</td>\n",
       "      <td>3028</td>\n",
       "      <td>https://skeptics.stackexchange.com/questions/3028</td>\n",
       "      <td>psychology</td>\n",
       "      <td>4</td>\n",
       "      <td>This is a touchy issue. I think it is importan...</td>\n",
       "      <td>https://skeptics.stackexchange.com/questions/3...</td>\n",
       "      <td>7644</td>\n",
       "    </tr>\n",
       "    <tr>\n",
       "      <th>...</th>\n",
       "      <td>...</td>\n",
       "      <td>...</td>\n",
       "      <td>...</td>\n",
       "      <td>...</td>\n",
       "      <td>...</td>\n",
       "      <td>...</td>\n",
       "      <td>...</td>\n",
       "      <td>...</td>\n",
       "    </tr>\n",
       "    <tr>\n",
       "      <th>874</th>\n",
       "      <td>Is the Rorschach test a reliable diagnostic to...</td>\n",
       "      <td>7424</td>\n",
       "      <td>https://skeptics.stackexchange.com/questions/7424</td>\n",
       "      <td>psychology</td>\n",
       "      <td>4</td>\n",
       "      <td>This seems to be one of our questions which ha...</td>\n",
       "      <td>https://skeptics.stackexchange.com/questions/7...</td>\n",
       "      <td>8632</td>\n",
       "    </tr>\n",
       "    <tr>\n",
       "      <th>121</th>\n",
       "      <td>Can Sunny D turn you yellow?</td>\n",
       "      <td>4153</td>\n",
       "      <td>https://skeptics.stackexchange.com/questions/4153</td>\n",
       "      <td>nutrition</td>\n",
       "      <td>0</td>\n",
       "      <td>High doses of beta-carotene can be deposited i...</td>\n",
       "      <td>https://skeptics.stackexchange.com/questions/4...</td>\n",
       "      <td>4155</td>\n",
       "    </tr>\n",
       "    <tr>\n",
       "      <th>814</th>\n",
       "      <td>Do cats always land on their feet?</td>\n",
       "      <td>3060</td>\n",
       "      <td>https://skeptics.stackexchange.com/questions/3060</td>\n",
       "      <td>physics</td>\n",
       "      <td>3</td>\n",
       "      <td>No. Unless...\\n\\n\\nThe cat is healthy and more...</td>\n",
       "      <td>https://skeptics.stackexchange.com/questions/3...</td>\n",
       "      <td>3063</td>\n",
       "    </tr>\n",
       "    <tr>\n",
       "      <th>75</th>\n",
       "      <td>Does wetting a beer glass change the foam char...</td>\n",
       "      <td>44984</td>\n",
       "      <td>https://skeptics.stackexchange.com/questions/4...</td>\n",
       "      <td>physics</td>\n",
       "      <td>3</td>\n",
       "      <td>In 1953, a paper looking at some of the factor...</td>\n",
       "      <td>https://skeptics.stackexchange.com/questions/4...</td>\n",
       "      <td>44985</td>\n",
       "    </tr>\n",
       "    <tr>\n",
       "      <th>893</th>\n",
       "      <td>Can you deduce the quality of watermelons by t...</td>\n",
       "      <td>20567</td>\n",
       "      <td>https://skeptics.stackexchange.com/questions/2...</td>\n",
       "      <td>nutrition</td>\n",
       "      <td>0</td>\n",
       "      <td>There are a few papers assessing methods and r...</td>\n",
       "      <td>https://skeptics.stackexchange.com/questions/2...</td>\n",
       "      <td>20586</td>\n",
       "    </tr>\n",
       "  </tbody>\n",
       "</table>\n",
       "<p>852 rows × 8 columns</p>\n",
       "</div>"
      ],
      "text/plain": [
       "                                              question questionId  \\\n",
       "667               Is smoking weed bad for your health?        487   \n",
       "169                            Is tequila a probiotic?      35736   \n",
       "510  Can those limited to the left side of their br...      14026   \n",
       "849       Is the \"Back to the future\" Huvr board real?      19776   \n",
       "222  Is a woman who dresses sexually suggestively m...       3028   \n",
       "..                                                 ...        ...   \n",
       "874  Is the Rorschach test a reliable diagnostic to...       7424   \n",
       "121                       Can Sunny D turn you yellow?       4153   \n",
       "814                 Do cats always land on their feet?       3060   \n",
       "75   Does wetting a beer glass change the foam char...      44984   \n",
       "893  Can you deduce the quality of watermelons by t...      20567   \n",
       "\n",
       "                                           questionUrl         category  \\\n",
       "667   https://skeptics.stackexchange.com/questions/487  medical-science   \n",
       "169  https://skeptics.stackexchange.com/questions/3...        nutrition   \n",
       "510  https://skeptics.stackexchange.com/questions/1...       psychology   \n",
       "849  https://skeptics.stackexchange.com/questions/1...          physics   \n",
       "222  https://skeptics.stackexchange.com/questions/3028       psychology   \n",
       "..                                                 ...              ...   \n",
       "874  https://skeptics.stackexchange.com/questions/7424       psychology   \n",
       "121  https://skeptics.stackexchange.com/questions/4153        nutrition   \n",
       "814  https://skeptics.stackexchange.com/questions/3060          physics   \n",
       "75   https://skeptics.stackexchange.com/questions/4...          physics   \n",
       "893  https://skeptics.stackexchange.com/questions/2...        nutrition   \n",
       "\n",
       "     categoryId                                             answer  \\\n",
       "667           2  I’m bothered with the ‘you smoke cigarettes an...   \n",
       "169           0  The Facebook video is wrong because they have ...   \n",
       "510           4  \\n  Can those limited to the left side of thei...   \n",
       "849           3  Looking at their own website, the product they...   \n",
       "222           4  This is a touchy issue. I think it is importan...   \n",
       "..          ...                                                ...   \n",
       "874           4  This seems to be one of our questions which ha...   \n",
       "121           0  High doses of beta-carotene can be deposited i...   \n",
       "814           3  No. Unless...\\n\\n\\nThe cat is healthy and more...   \n",
       "75            3  In 1953, a paper looking at some of the factor...   \n",
       "893           0  There are a few papers assessing methods and r...   \n",
       "\n",
       "                                             answerUrl answerId  \n",
       "667  https://skeptics.stackexchange.com/questions/4...     5567  \n",
       "169  https://skeptics.stackexchange.com/questions/3...    36811  \n",
       "510  https://skeptics.stackexchange.com/questions/1...    14039  \n",
       "849  https://skeptics.stackexchange.com/questions/1...    19779  \n",
       "222  https://skeptics.stackexchange.com/questions/3...     7644  \n",
       "..                                                 ...      ...  \n",
       "874  https://skeptics.stackexchange.com/questions/7...     8632  \n",
       "121  https://skeptics.stackexchange.com/questions/4...     4155  \n",
       "814  https://skeptics.stackexchange.com/questions/3...     3063  \n",
       "75   https://skeptics.stackexchange.com/questions/4...    44985  \n",
       "893  https://skeptics.stackexchange.com/questions/2...    20586  \n",
       "\n",
       "[852 rows x 8 columns]"
      ]
     },
     "execution_count": 54,
     "metadata": {},
     "output_type": "execute_result"
    }
   ],
   "source": [
    "train_df"
   ]
  },
  {
   "cell_type": "code",
   "execution_count": 64,
   "metadata": {},
   "outputs": [],
   "source": [
    "# Load the train_dataset\n",
    "train_dataset = SentenceDataset(train_df, bpemb_en)\n",
    "train_dl = DataLoader(dataset=train_dataset, batch_size=len(train_dataset), shuffle=True, collate_fn=collate_batch_bilstm)\n",
    "\n",
    "# Load the validation_dataset\n",
    "val_dataset = SentenceDataset(val_df, bpemb_en)\n",
    "valid_dl = DataLoader(dataset=val_dataset, batch_size=len(val_dataset), shuffle=True, collate_fn=collate_batch_bilstm)\n",
    "\n",
    "# Load the testing dataset\n",
    "test_dataset = SentenceDataset(test_df, bpemb_en)\n",
    "test_dl = DataLoader(dataset=test_dataset, batch_size=len(test_dataset), shuffle=True, collate_fn=collate_batch_bilstm)"
   ]
  },
  {
   "cell_type": "markdown",
   "metadata": {},
   "source": [
    "# Create LSTM Model"
   ]
  },
  {
   "cell_type": "code",
   "execution_count": 61,
   "metadata": {},
   "outputs": [],
   "source": [
    "class LSTM_Model(torch.nn.Module):\n",
    "    \n",
    "    def __init__(self, pretrained_embeddings: torch.tensor,\n",
    "                n_classes: int,\n",
    "                lstm_dim: int,\n",
    "                dropout_prob: float = 0.1,\n",
    "                n_stack_lstm: int = 2):\n",
    "        \n",
    "        super(LSTM_Model, self).__init__()\n",
    "        \n",
    "        # Define Model layers\n",
    "        ## Embedding layer\n",
    "        self.embedding_layer = nn.Embedding.from_pretrained(pretrained_embeddings, padding_idx = pretrained_embeddings.shape[0]-1)\n",
    "        \n",
    "        ## BiLSTM layer\n",
    "        self.bilstm_layer = nn.LSTM(pretrained_embeddings.shape[1], lstm_dim, n_stack_lstm, batch_first = True, dropout = dropout_prob, bidirectional = True)\n",
    "        \n",
    "        ## Dense layer, 2 * lstm_dim -> because BiLSTM\n",
    "        self.dense_layer = nn.Linear(2 * lstm_dim, n_classes)\n",
    "        \n",
    "        # Initialize weights\n",
    "        parameter_list = list(self.bilstm_layer.named_parameters()) + list(self.dense_layer.named_parameters())\n",
    "        for name,param in parameter_list:\n",
    "            if name in ['bias']:\n",
    "                nn.init.zeros_(param)\n",
    "            elif name in ['weight']:\n",
    "                nn.init.xavier_normal_(param)\n",
    "        \n",
    "        # Save class size\n",
    "        self.n_classes = n_classes\n",
    "        \n",
    "    \n",
    "    def forward(self, inputs, input_seq_length, labels):\n",
    "        \n",
    "        # Encode input using the embedding layer\n",
    "        embedding = self.embedding_layer(inputs)\n",
    "        \n",
    "        # Pack padded: return PackedSequence object\n",
    "        lstm_in = nn.utils.rnn.pack_padded_sequence(embedding, input_seq_length, batch_first = True, enforce_sorted = False)\n",
    "        \n",
    "        # BiLSTM_input: Packed Sequence object\n",
    "        lstm_out, hidden = self.bilstm_layer(lstm_in)\n",
    "        lstm_out, _ = nn.utils.rnn.pad_packed_sequence(lstm_out, batch_first = True)\n",
    "        \n",
    "        # Extract the final state of all variable length inputs\n",
    "        ff_in = lstm_out.gather(1, input_seq_length.view(-1,1,1).expand(lstm_out.size(0), 1, lstm_out.size(2)) - 1).squeeze()\n",
    "\n",
    "        # Get logits (b x 2)\n",
    "        logits = self.dense_layer(ff_in).view(-1, self.n_classes)\n",
    "        outputs = (logits,)\n",
    "        if labels is not None:\n",
    "            loss_fn = nn.CrossEntropyLoss()\n",
    "            loss = loss_fn(logits, labels)\n",
    "            outputs = (loss,) + outputs\n",
    "\n",
    "        return outputs"
   ]
  },
  {
   "cell_type": "code",
   "execution_count": 63,
   "metadata": {},
   "outputs": [],
   "source": [
    "# Create the model\n",
    "model = LSTM_Model(\n",
    "    pretrained_embeddings=torch.FloatTensor(pretrained_embeddings),\n",
    "    n_classes=len(set(data_df['categoryId'].values)),\n",
    "    lstm_dim=lstm_dim, \n",
    "    dropout_prob=0.2)\n",
    "\n",
    "# Use GPU for model training (or) use model.to(device)\n",
    "#model.cuda()\n",
    "model.to(device)\n",
    "\n",
    "# Set optimizer algorithm\n",
    "n_epochs = 150\n",
    "lr = 5e-4\n",
    "optimizer = Adam(model.parameters(), lr=lr)"
   ]
  },
  {
   "cell_type": "code",
   "execution_count": 276,
   "metadata": {},
   "outputs": [],
   "source": [
    "# Compute model accuracy\n",
    "def accuracy(logits, labels):\n",
    "  return torch.sum(torch.argmax(logits, dim=-1) == labels).type(torch.float) / float(labels.shape[0])\n",
    "\n",
    "# Test model performance on test-data\n",
    "def test_model(model = model, test_dl = test_dl, device = device):\n",
    "  model.eval()\n",
    "  with torch.no_grad():    \n",
    "    for batch in test_dl:\n",
    "      batch = tuple(t.to(device) for t in batch)\n",
    "      input_ids = batch[0]\n",
    "      seq_lens = batch[1]\n",
    "      labels = batch[2]\n",
    "        \n",
    "      _test_loss, logits = model(input_ids, seq_lens, labels=labels)\n",
    "      acc = accuracy(logits, labels)\n",
    "        \n",
    "      print(f'Testing accuracy: {acc}','test_loss:',_test_loss.item())\n",
    "    \n",
    "# Train model\n",
    "def train(model = model, train_dl = train_dl, valid_dl = valid_dl, optimizer = optimizer, n_epochs = n_epochs, device = device):\n",
    "    \n",
    "  liveloss = PlotLosses()\n",
    "\n",
    "  # Initialize loss and accuracy \n",
    "  losses = []\n",
    "  best_loss = None\n",
    "  best_model = None\n",
    "    \n",
    "  for ep in range(n_epochs):\n",
    "    \n",
    "    # Store training logs\n",
    "    logs = {}\n",
    "    \n",
    "    print('Epoch:',ep)\n",
    "    \n",
    "    # Loss per epoch\n",
    "    loss_epoch = []\n",
    "    \n",
    "    for batch in tqdm(train_dl):  \n",
    "        \n",
    "      # Train model\n",
    "      model.train()\n",
    "      optimizer.zero_grad()\n",
    "      \n",
    "      # Get data from batch\n",
    "      batch = tuple(t.to(device) for t in batch)\n",
    "      input_ids = batch[0]\n",
    "      seq_lens = batch[1]\n",
    "      labels = batch[2]\n",
    "      \n",
    "      # Compute output and loss\n",
    "      loss, logits = model(input_ids, seq_lens, labels=labels)\n",
    "        \n",
    "      # Append per-epoch loss\n",
    "      losses.append(loss.item())\n",
    "      loss_epoch.append(loss.item())\n",
    "      \n",
    "      # Backpropogate loss\n",
    "      loss.backward()\n",
    "      optimizer.step()\n",
    "    \n",
    "    # Evaluate after epoch\n",
    "    model.eval()\n",
    "    \n",
    "    with torch.no_grad():\n",
    "      for batch in valid_dl:\n",
    "        \n",
    "        batch = tuple(t.to(device) for t in batch)\n",
    "        input_ids = batch[0]\n",
    "        seq_lens = batch[1]\n",
    "        labels = batch[2]\n",
    "\n",
    "        _val_loss, logits = model(input_ids, seq_lens, labels=labels)\n",
    "        acc = accuracy(logits, labels)\n",
    "        \n",
    "        # Print model performance stats\n",
    "        print(f'Validation accuracy: {acc}, train loss: {sum(loss_epoch) / len(loss_epoch)}', '\\nVal_loss:',_val_loss.item(),'\\n\\n')        \n",
    "        \n",
    "        # Save the model with lowest validation loss\n",
    "        if best_loss is None:\n",
    "            best_loss = _val_loss.item()\n",
    "            best_model = model.state_dict()\n",
    "            \n",
    "        elif _val_loss.item() < best_loss:\n",
    "            best_loss = _val_loss.item()\n",
    "            best_model = model.state_dict()\n",
    "            \n",
    "        # Save logs for plotting\n",
    "        logs['Train-loss'] = sum(loss_epoch) / len(loss_epoch)\n",
    "        logs['Validation-loss'] = _val_loss.item()\n",
    "    \n",
    "    liveloss.update(logs)\n",
    "    liveloss.draw()\n",
    "\n",
    "  model.load_state_dict(best_model)\n",
    "  return best_model"
   ]
  },
  {
   "cell_type": "code",
   "execution_count": 272,
   "metadata": {},
   "outputs": [
    {
     "data": {
      "image/png": "[encoded data removed]",
      "text/plain": [
       "<Figure size 864x576 with 2 Axes>"
      ]
     },
     "metadata": {
      "needs_background": "light"
     },
     "output_type": "display_data"
    },
    {
     "name": "stdout",
     "output_type": "stream",
     "text": [
      "Train-loss:\n",
      "training   (min:    0.016, max:    1.592, cur:    0.016)\n",
      "\n",
      "Validation-loss:\n",
      "training   (min:    0.543, max:    1.579, cur:    0.895)\n"
     ]
    }
   ],
   "source": [
    "best_validation_model = train(model, train_dl, valid_dl, optimizer, n_epochs, device)"
   ]
  },
  {
   "cell_type": "code",
   "execution_count": 277,
   "metadata": {},
   "outputs": [
    {
     "name": "stdout",
     "output_type": "stream",
     "text": [
      "Testing accuracy: 0.7757009267807007 test_loss: 1.0268534421920776\n"
     ]
    }
   ],
   "source": [
    "model.load_state_dict(best_validation_model)\n",
    "test_model()\n",
    "\n",
    "# Save model\n",
    "state = {\n",
    "    'epoch': n_epochs,\n",
    "    'state_dict': model.state_dict(),\n",
    "    'optimizer': optimizer.state_dict(),\n",
    "}\n",
    "\n",
    "torch.save(state, './models/77_5_topic_classifier_best.model')"
   ]
  },
  {
   "cell_type": "code",
   "execution_count": 72,
   "metadata": {},
   "outputs": [
    {
     "name": "stdout",
     "output_type": "stream",
     "text": [
      "[t-SNE] Computing 151 nearest neighbors...\n",
      "[t-SNE] Indexed 1066 samples in 0.004s...\n",
      "[t-SNE] Computed neighbors for 1066 samples in 0.186s...\n",
      "[t-SNE] Computed conditional probabilities for sample 1000 / 1066\n",
      "[t-SNE] Computed conditional probabilities for sample 1066 / 1066\n",
      "[t-SNE] Mean sigma: 0.111473\n",
      "[t-SNE] Computed conditional probabilities in 0.075s\n",
      "[t-SNE] Iteration 50: error = 70.1974487, gradient norm = 0.2663717 (50 iterations in 0.758s)\n",
      "[t-SNE] Iteration 100: error = 72.3385544, gradient norm = 0.2380399 (50 iterations in 0.717s)\n",
      "[t-SNE] Iteration 150: error = 73.0104828, gradient norm = 0.2325916 (50 iterations in 0.743s)\n",
      "[t-SNE] Iteration 200: error = 72.7456970, gradient norm = 0.2369364 (50 iterations in 0.732s)\n",
      "[t-SNE] Iteration 250: error = 71.7786636, gradient norm = 0.2470315 (50 iterations in 0.709s)\n",
      "[t-SNE] KL divergence after 250 iterations with early exaggeration: 71.778664\n",
      "[t-SNE] Iteration 300: error = 1.1373850, gradient norm = 0.0013964 (50 iterations in 0.528s)\n",
      "[t-SNE] Iteration 350: error = 1.0755800, gradient norm = 0.0004235 (50 iterations in 0.498s)\n",
      "[t-SNE] Iteration 400: error = 1.0554864, gradient norm = 0.0002804 (50 iterations in 0.498s)\n",
      "[t-SNE] Iteration 450: error = 1.0467134, gradient norm = 0.0002327 (50 iterations in 0.489s)\n",
      "[t-SNE] Iteration 500: error = 1.0422589, gradient norm = 0.0001560 (50 iterations in 0.484s)\n",
      "[t-SNE] Iteration 550: error = 1.0393122, gradient norm = 0.0001673 (50 iterations in 0.488s)\n",
      "[t-SNE] Iteration 600: error = 1.0360813, gradient norm = 0.0001158 (50 iterations in 0.485s)\n",
      "[t-SNE] Iteration 650: error = 1.0338026, gradient norm = 0.0001114 (50 iterations in 0.489s)\n",
      "[t-SNE] Iteration 700: error = 1.0324662, gradient norm = 0.0001222 (50 iterations in 0.530s)\n",
      "[t-SNE] Iteration 750: error = 1.0318109, gradient norm = 0.0000824 (50 iterations in 0.504s)\n",
      "[t-SNE] Iteration 800: error = 1.0311115, gradient norm = 0.0000961 (50 iterations in 0.499s)\n",
      "[t-SNE] Iteration 850: error = 1.0310768, gradient norm = 0.0000742 (50 iterations in 0.483s)\n",
      "[t-SNE] Iteration 900: error = 1.0301979, gradient norm = 0.0000918 (50 iterations in 0.480s)\n",
      "[t-SNE] Iteration 950: error = 1.0299164, gradient norm = 0.0000808 (50 iterations in 0.489s)\n",
      "[t-SNE] Iteration 1000: error = 1.0290861, gradient norm = 0.0000910 (50 iterations in 0.489s)\n",
      "[t-SNE] KL divergence after 1000 iterations: 1.029086\n",
      "(1066, 2)\n"
     ]
    }
   ],
   "source": [
    "# Visualize Question text\n",
    "import json\n",
    "import pandas as pd\n",
    "import numpy as np\n",
    "import string\n",
    "import os\n",
    "\n",
    "from sklearn.metrics.pairwise import cosine_similarity\n",
    "from sklearn.feature_extraction.text import TfidfVectorizer\n",
    "from sklearn.manifold import TSNE\n",
    "from sklearn.decomposition import TruncatedSVD\n",
    "\n",
    "import matplotlib.pyplot as plt\n",
    "import seaborn as sns; sns.set()\n",
    "\n",
    "from sklearn.feature_extraction.text import TfidfVectorizer\n",
    "from nltk.stem import WordNetLemmatizer\n",
    "from nltk.tokenize import word_tokenize\n",
    "import re\n",
    "\n",
    "# Stop words\n",
    "stop_words = text.ENGLISH_STOP_WORDS\n",
    "\n",
    "# Tokenizer\n",
    "def tokenize(text):\n",
    "    tokens = nltk.word_tokenize(text)\n",
    "    stems = []\n",
    "    for item in tokens:\n",
    "        if item not in stop_words:\n",
    "            stems.append(PorterStemmer().stem(item))\n",
    "    return stems\n",
    "\n",
    "# TF-IDF\n",
    "vectorizer = TfidfVectorizer(tokenizer = tokenize)\n",
    "\n",
    "# Get questions\n",
    "questions_list = list(data_df['question'].values)\n",
    "questions_lbl = list(data_df['category'].values)\n",
    "\n",
    "vectors = vectorizer.fit_transform(questions_list)\n",
    "\n",
    "X_reduced = TruncatedSVD(n_components=50, random_state=0).fit_transform(vectors)\n",
    "X_embedded = TSNE(n_components=2, perplexity=50, verbose=2).fit_transform(X_reduced)\n",
    "\n",
    "print(X_embedded.shape)"
   ]
  },
  {
   "cell_type": "code",
   "execution_count": 99,
   "metadata": {},
   "outputs": [
    {
     "data": {
      "image/png": "[encoded data removed]",
      "text/plain": [
       "<Figure size 360x360 with 1 Axes>"
      ]
     },
     "metadata": {},
     "output_type": "display_data"
    }
   ],
   "source": [
    "import numpy as np\n",
    "from matplotlib import pyplot as plt\n",
    "\n",
    "scatter_x = np.array([1,2,3,4,5])\n",
    "scatter_y = np.array([5,4,3,2,1])\n",
    "group = np.array(questions_lbl)\n",
    "cdict = {0: 'black', 1: 'red', 2: 'blue', 3: 'green', 4:'yellow'}\n",
    "fig, ax = plt.subplots(figsize=(5,5))\n",
    "ax.set_xlabel(\"N=1, TSNE component\")\n",
    "ax.set_ylabel(\"N=2, TSNE component\")\n",
    "\n",
    "cid = 0\n",
    "for g in np.unique(group):\n",
    "    ix = np.where(group == g)\n",
    "    ax.scatter(X_embedded[ix,0], X_embedded[ix,1], c = cdict[cid], label = g, s = 10)\n",
    "    cid += 1\n",
    "ax.legend(loc = 'best')\n",
    "\n",
    "plt.savefig('tsne_plt.jpg')\n",
    "plt.show()"
   ]
  },
  {
   "cell_type": "code",
   "execution_count": null,
   "metadata": {},
   "outputs": [],
   "source": []
  },
  {
   "cell_type": "code",
   "execution_count": null,
   "metadata": {},
   "outputs": [],
   "source": []
  }
 ],
 "metadata": {
  "kernelspec": {
   "display_name": "Python 3",
   "language": "python",
   "name": "python3"
  },
  "language_info": {
   "codemirror_mode": {
    "name": "ipython",
    "version": 3
   },
   "file_extension": ".py",
   "mimetype": "text/x-python",
   "name": "python",
   "nbconvert_exporter": "python",
   "pygments_lexer": "ipython3",
   "version": "3.6.8"
  }
 },
 "nbformat": 4,
 "nbformat_minor": 2
}
